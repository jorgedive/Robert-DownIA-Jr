{
 "cells": [
  {
   "cell_type": "markdown",
   "id": "53985512-ec73-4697-9e5e-f47d686fea89",
   "metadata": {},
   "source": [
    "# EDA 01 - Preparación de los datos para Content Based Filtering"
   ]
  },
  {
   "cell_type": "markdown",
   "id": "cdc69738-b283-4673-80a2-f3cdb53f1268",
   "metadata": {},
   "source": [
    "En este _notebook_ vamos a utilizar los siguientes archivos para preparar los datos para la creación de sistemas de recomendación basadas en contenido y metadatos sobre las películas:\n",
    "\n",
    "- **cleaned_movies.csv** fichero de datos limpio como output del _notebook_ EDA00\n",
    "- **credits.csv** contiene información sobre los actores y el director de las películas\n",
    "- **keywords.csv** contiene palabras clave que serán de utilidad para la creación del sistema de recomendación"
   ]
  },
  {
   "cell_type": "code",
   "execution_count": 1,
   "id": "2aa0d8d2-2958-4c6f-86c3-23da4a50378d",
   "metadata": {},
   "outputs": [],
   "source": [
    "import pandas as pd\n",
    "import numpy as np"
   ]
  },
  {
   "cell_type": "markdown",
   "id": "039904e8-d1d5-4601-ba05-449ef1e7de30",
   "metadata": {},
   "source": [
    "## Importación del Dataset"
   ]
  },
  {
   "cell_type": "code",
   "execution_count": 2,
   "id": "ee00307d-8dcd-4613-82f4-29c77f7036aa",
   "metadata": {},
   "outputs": [],
   "source": [
    "from dotenv import load_dotenv\n",
    "import os\n",
    "\n",
    "load_dotenv()\n",
    "\n",
    "DATA_PATH = os.getenv(\"FILES_LOCATION\")\n",
    "CLEANED_FILE = os.path.join(DATA_PATH, \"CSV\", \"cleaned_movies.csv\")\n",
    "CREDITS_FILE = os.path.join(DATA_PATH, \"CSV\", \"credits.csv\")\n",
    "KEYWORDS_FILE = os.path.join(DATA_PATH, \"CSV\", \"keywords.csv\")"
   ]
  },
  {
   "cell_type": "code",
   "execution_count": 3,
   "id": "5547523a-f1bf-422a-a629-e72615b8f46f",
   "metadata": {},
   "outputs": [],
   "source": [
    "df = pd.read_csv(CLEANED_FILE, low_memory=False)\n",
    "credits = pd.read_csv(CREDITS_FILE, low_memory=False)\n",
    "keyw = pd.read_csv(KEYWORDS_FILE, low_memory=False)"
   ]
  },
  {
   "cell_type": "code",
   "execution_count": 4,
   "id": "30c73aa9-c34f-4eee-8eb4-e8a9b0653761",
   "metadata": {},
   "outputs": [
    {
     "data": {
      "text/plain": [
       "((41362, 8), (45476, 3), (46419, 2))"
      ]
     },
     "execution_count": 4,
     "metadata": {},
     "output_type": "execute_result"
    }
   ],
   "source": [
    "df.shape, credits.shape, keyw.shape"
   ]
  },
  {
   "cell_type": "code",
   "execution_count": 5,
   "id": "929d49bb-c626-458f-a2df-9b92b2cefe02",
   "metadata": {},
   "outputs": [
    {
     "data": {
      "text/plain": [
       "(Index(['cast', 'crew', 'id'], dtype='object'),\n",
       " Index(['id', 'keywords'], dtype='object'))"
      ]
     },
     "execution_count": 5,
     "metadata": {},
     "output_type": "execute_result"
    }
   ],
   "source": [
    "credits.columns, keyw.columns"
   ]
  },
  {
   "cell_type": "code",
   "execution_count": 6,
   "id": "8b9bcd55-1b66-4597-9e18-eba2aaf35e17",
   "metadata": {},
   "outputs": [
    {
     "name": "stdout",
     "output_type": "stream",
     "text": [
      "<class 'pandas.core.frame.DataFrame'>\n",
      "RangeIndex: 45476 entries, 0 to 45475\n",
      "Data columns (total 3 columns):\n",
      " #   Column  Non-Null Count  Dtype \n",
      "---  ------  --------------  ----- \n",
      " 0   cast    45476 non-null  object\n",
      " 1   crew    45476 non-null  object\n",
      " 2   id      45476 non-null  int64 \n",
      "dtypes: int64(1), object(2)\n",
      "memory usage: 1.0+ MB\n",
      "<class 'pandas.core.frame.DataFrame'>\n",
      "RangeIndex: 46419 entries, 0 to 46418\n",
      "Data columns (total 2 columns):\n",
      " #   Column    Non-Null Count  Dtype \n",
      "---  ------    --------------  ----- \n",
      " 0   id        46419 non-null  int64 \n",
      " 1   keywords  46419 non-null  object\n",
      "dtypes: int64(1), object(1)\n",
      "memory usage: 725.4+ KB\n"
     ]
    },
    {
     "data": {
      "text/plain": [
       "(None, None)"
      ]
     },
     "execution_count": 6,
     "metadata": {},
     "output_type": "execute_result"
    }
   ],
   "source": [
    "credits.info(), keyw.info()"
   ]
  },
  {
   "cell_type": "markdown",
   "id": "7a2ae1f9-a4a9-47f2-a4d2-730c7afccea2",
   "metadata": {},
   "source": [
    "## Limpieza de los datos"
   ]
  },
  {
   "cell_type": "markdown",
   "id": "49af155a-c18c-40bb-92ac-67aae37fa3a1",
   "metadata": {},
   "source": [
    "Con los diferentes _DataFrame_ importados, vamos a realizar una fusión de los mismos y a eliminar los duplicados por id en caso de haberlos. Con ello obtendremos un único _dataset_ con el que tratar a lo largo de todo el _notebook_."
   ]
  },
  {
   "cell_type": "code",
   "execution_count": 7,
   "id": "1c7fee76-99c1-4381-b40d-9819e316a72e",
   "metadata": {},
   "outputs": [],
   "source": [
    "merged = df.merge(credits, on=\"id\", how=\"inner\")\n",
    "merged = merged.merge(keyw, on=\"id\", how=\"inner\").drop_duplicates(\"id\")"
   ]
  },
  {
   "cell_type": "code",
   "execution_count": 8,
   "id": "8d952b66-9b30-4890-84d3-bcd9074b0b81",
   "metadata": {},
   "outputs": [
    {
     "data": {
      "text/plain": [
       "(41361, 11)"
      ]
     },
     "execution_count": 8,
     "metadata": {},
     "output_type": "execute_result"
    }
   ],
   "source": [
    "merged.shape"
   ]
  },
  {
   "cell_type": "code",
   "execution_count": 9,
   "id": "a74f6cb0-94f3-4d7a-9307-16329193aaf3",
   "metadata": {},
   "outputs": [
    {
     "data": {
      "text/html": [
       "<div>\n",
       "<style scoped>\n",
       "    .dataframe tbody tr th:only-of-type {\n",
       "        vertical-align: middle;\n",
       "    }\n",
       "\n",
       "    .dataframe tbody tr th {\n",
       "        vertical-align: top;\n",
       "    }\n",
       "\n",
       "    .dataframe thead th {\n",
       "        text-align: right;\n",
       "    }\n",
       "</style>\n",
       "<table border=\"1\" class=\"dataframe\">\n",
       "  <thead>\n",
       "    <tr style=\"text-align: right;\">\n",
       "      <th></th>\n",
       "      <th>genres</th>\n",
       "      <th>id</th>\n",
       "      <th>title</th>\n",
       "      <th>overview</th>\n",
       "      <th>description</th>\n",
       "      <th>popularity</th>\n",
       "      <th>vote_average</th>\n",
       "      <th>vote_count</th>\n",
       "      <th>cast</th>\n",
       "      <th>crew</th>\n",
       "      <th>keywords</th>\n",
       "    </tr>\n",
       "  </thead>\n",
       "  <tbody>\n",
       "    <tr>\n",
       "      <th>0</th>\n",
       "      <td>['Animation', 'Comedy', 'Family']</td>\n",
       "      <td>862</td>\n",
       "      <td>Toy Story</td>\n",
       "      <td>Led by Woody, Andy's toys live happily in his ...</td>\n",
       "      <td>Led by Woody, Andy's toys live happily in his ...</td>\n",
       "      <td>21.946943</td>\n",
       "      <td>7.7</td>\n",
       "      <td>5415.0</td>\n",
       "      <td>[{'cast_id': 14, 'character': 'Woody (voice)',...</td>\n",
       "      <td>[{'credit_id': '52fe4284c3a36847f8024f49', 'de...</td>\n",
       "      <td>[{'id': 931, 'name': 'jealousy'}, {'id': 4290,...</td>\n",
       "    </tr>\n",
       "    <tr>\n",
       "      <th>1</th>\n",
       "      <td>['Adventure', 'Fantasy', 'Family']</td>\n",
       "      <td>8844</td>\n",
       "      <td>Jumanji</td>\n",
       "      <td>When siblings Judy and Peter discover an encha...</td>\n",
       "      <td>When siblings Judy and Peter discover an encha...</td>\n",
       "      <td>17.015539</td>\n",
       "      <td>6.9</td>\n",
       "      <td>2413.0</td>\n",
       "      <td>[{'cast_id': 1, 'character': 'Alan Parrish', '...</td>\n",
       "      <td>[{'credit_id': '52fe44bfc3a36847f80a7cd1', 'de...</td>\n",
       "      <td>[{'id': 10090, 'name': 'board game'}, {'id': 1...</td>\n",
       "    </tr>\n",
       "    <tr>\n",
       "      <th>2</th>\n",
       "      <td>['Romance', 'Comedy']</td>\n",
       "      <td>15602</td>\n",
       "      <td>Grumpier Old Men</td>\n",
       "      <td>A family wedding reignites the ancient feud be...</td>\n",
       "      <td>A family wedding reignites the ancient feud be...</td>\n",
       "      <td>11.712900</td>\n",
       "      <td>6.5</td>\n",
       "      <td>92.0</td>\n",
       "      <td>[{'cast_id': 2, 'character': 'Max Goldman', 'c...</td>\n",
       "      <td>[{'credit_id': '52fe466a9251416c75077a89', 'de...</td>\n",
       "      <td>[{'id': 1495, 'name': 'fishing'}, {'id': 12392...</td>\n",
       "    </tr>\n",
       "    <tr>\n",
       "      <th>3</th>\n",
       "      <td>['Comedy', 'Drama', 'Romance']</td>\n",
       "      <td>31357</td>\n",
       "      <td>Waiting to Exhale</td>\n",
       "      <td>Cheated on, mistreated and stepped on, the wom...</td>\n",
       "      <td>Cheated on, mistreated and stepped on, the wom...</td>\n",
       "      <td>3.859495</td>\n",
       "      <td>6.1</td>\n",
       "      <td>34.0</td>\n",
       "      <td>[{'cast_id': 1, 'character': \"Savannah 'Vannah...</td>\n",
       "      <td>[{'credit_id': '52fe44779251416c91011acb', 'de...</td>\n",
       "      <td>[{'id': 818, 'name': 'based on novel'}, {'id':...</td>\n",
       "    </tr>\n",
       "    <tr>\n",
       "      <th>4</th>\n",
       "      <td>['Comedy']</td>\n",
       "      <td>11862</td>\n",
       "      <td>Father of the Bride Part II</td>\n",
       "      <td>Just when George Banks has recovered from his ...</td>\n",
       "      <td>Just when George Banks has recovered from his ...</td>\n",
       "      <td>8.387519</td>\n",
       "      <td>5.7</td>\n",
       "      <td>173.0</td>\n",
       "      <td>[{'cast_id': 1, 'character': 'George Banks', '...</td>\n",
       "      <td>[{'credit_id': '52fe44959251416c75039ed7', 'de...</td>\n",
       "      <td>[{'id': 1009, 'name': 'baby'}, {'id': 1599, 'n...</td>\n",
       "    </tr>\n",
       "  </tbody>\n",
       "</table>\n",
       "</div>"
      ],
      "text/plain": [
       "                               genres     id                        title  \\\n",
       "0   ['Animation', 'Comedy', 'Family']    862                    Toy Story   \n",
       "1  ['Adventure', 'Fantasy', 'Family']   8844                      Jumanji   \n",
       "2               ['Romance', 'Comedy']  15602             Grumpier Old Men   \n",
       "3      ['Comedy', 'Drama', 'Romance']  31357            Waiting to Exhale   \n",
       "4                          ['Comedy']  11862  Father of the Bride Part II   \n",
       "\n",
       "                                            overview  \\\n",
       "0  Led by Woody, Andy's toys live happily in his ...   \n",
       "1  When siblings Judy and Peter discover an encha...   \n",
       "2  A family wedding reignites the ancient feud be...   \n",
       "3  Cheated on, mistreated and stepped on, the wom...   \n",
       "4  Just when George Banks has recovered from his ...   \n",
       "\n",
       "                                         description  popularity  \\\n",
       "0  Led by Woody, Andy's toys live happily in his ...   21.946943   \n",
       "1  When siblings Judy and Peter discover an encha...   17.015539   \n",
       "2  A family wedding reignites the ancient feud be...   11.712900   \n",
       "3  Cheated on, mistreated and stepped on, the wom...    3.859495   \n",
       "4  Just when George Banks has recovered from his ...    8.387519   \n",
       "\n",
       "   vote_average  vote_count  \\\n",
       "0           7.7      5415.0   \n",
       "1           6.9      2413.0   \n",
       "2           6.5        92.0   \n",
       "3           6.1        34.0   \n",
       "4           5.7       173.0   \n",
       "\n",
       "                                                cast  \\\n",
       "0  [{'cast_id': 14, 'character': 'Woody (voice)',...   \n",
       "1  [{'cast_id': 1, 'character': 'Alan Parrish', '...   \n",
       "2  [{'cast_id': 2, 'character': 'Max Goldman', 'c...   \n",
       "3  [{'cast_id': 1, 'character': \"Savannah 'Vannah...   \n",
       "4  [{'cast_id': 1, 'character': 'George Banks', '...   \n",
       "\n",
       "                                                crew  \\\n",
       "0  [{'credit_id': '52fe4284c3a36847f8024f49', 'de...   \n",
       "1  [{'credit_id': '52fe44bfc3a36847f80a7cd1', 'de...   \n",
       "2  [{'credit_id': '52fe466a9251416c75077a89', 'de...   \n",
       "3  [{'credit_id': '52fe44779251416c91011acb', 'de...   \n",
       "4  [{'credit_id': '52fe44959251416c75039ed7', 'de...   \n",
       "\n",
       "                                            keywords  \n",
       "0  [{'id': 931, 'name': 'jealousy'}, {'id': 4290,...  \n",
       "1  [{'id': 10090, 'name': 'board game'}, {'id': 1...  \n",
       "2  [{'id': 1495, 'name': 'fishing'}, {'id': 12392...  \n",
       "3  [{'id': 818, 'name': 'based on novel'}, {'id':...  \n",
       "4  [{'id': 1009, 'name': 'baby'}, {'id': 1599, 'n...  "
      ]
     },
     "execution_count": 9,
     "metadata": {},
     "output_type": "execute_result"
    }
   ],
   "source": [
    "merged.head()"
   ]
  },
  {
   "cell_type": "markdown",
   "id": "82170f24-7019-471b-8292-301c489cf02c",
   "metadata": {},
   "source": [
    "Tal y como hicimos en el anterior _notebook_, vamos a hacer uso de la función _literal_eval()_ para evaluar las entradas como listas de diccionarios. En este caso lo haremos para las columnas de _cast_, _crew_ y _keywords_."
   ]
  },
  {
   "cell_type": "code",
   "execution_count": 10,
   "id": "ece53d4b-8334-4a1c-9d7c-26aba57d9c3f",
   "metadata": {},
   "outputs": [],
   "source": [
    "import ast\n",
    "\n",
    "get_name_cast = lambda x: [c[\"name\"] for c in ast.literal_eval(x)] if isinstance(ast.literal_eval(x), list) else []\n",
    "get_keys = lambda x: [w[\"name\"] for w in ast.literal_eval(x)] if isinstance(ast.literal_eval(x), list) else []"
   ]
  },
  {
   "cell_type": "code",
   "execution_count": 11,
   "id": "b11f18b3-fde2-412d-87e5-33a85b8232df",
   "metadata": {},
   "outputs": [],
   "source": [
    "def get_dir(x):\n",
    "    for el in ast.literal_eval(x):\n",
    "        if el[\"job\"] == \"Director\":\n",
    "            return el[\"name\"]\n",
    "    return np.nan"
   ]
  },
  {
   "cell_type": "code",
   "execution_count": 12,
   "id": "564974c7-d9c4-429b-8b91-cc96cf6b768b",
   "metadata": {},
   "outputs": [],
   "source": [
    "merged[\"director\"] = merged[\"crew\"].apply(get_dir)\n",
    "merged[\"cast\"] = merged[\"cast\"].fillna(\"[]\").apply(get_name_cast)\n",
    "merged[\"cast\"] = merged[\"cast\"].apply(lambda x: x[:3] if len(x) >= 3 else x)\n",
    "merged[\"keywords\"] = merged[\"keywords\"].apply(get_keys)"
   ]
  },
  {
   "cell_type": "code",
   "execution_count": 13,
   "id": "e7db87af-acf3-4341-8328-51c1be281f7c",
   "metadata": {},
   "outputs": [
    {
     "data": {
      "text/html": [
       "<div>\n",
       "<style scoped>\n",
       "    .dataframe tbody tr th:only-of-type {\n",
       "        vertical-align: middle;\n",
       "    }\n",
       "\n",
       "    .dataframe tbody tr th {\n",
       "        vertical-align: top;\n",
       "    }\n",
       "\n",
       "    .dataframe thead th {\n",
       "        text-align: right;\n",
       "    }\n",
       "</style>\n",
       "<table border=\"1\" class=\"dataframe\">\n",
       "  <thead>\n",
       "    <tr style=\"text-align: right;\">\n",
       "      <th></th>\n",
       "      <th>genres</th>\n",
       "      <th>id</th>\n",
       "      <th>title</th>\n",
       "      <th>overview</th>\n",
       "      <th>description</th>\n",
       "      <th>popularity</th>\n",
       "      <th>vote_average</th>\n",
       "      <th>vote_count</th>\n",
       "      <th>cast</th>\n",
       "      <th>keywords</th>\n",
       "      <th>director</th>\n",
       "    </tr>\n",
       "  </thead>\n",
       "  <tbody>\n",
       "    <tr>\n",
       "      <th>0</th>\n",
       "      <td>['Animation', 'Comedy', 'Family']</td>\n",
       "      <td>862</td>\n",
       "      <td>Toy Story</td>\n",
       "      <td>Led by Woody, Andy's toys live happily in his ...</td>\n",
       "      <td>Led by Woody, Andy's toys live happily in his ...</td>\n",
       "      <td>21.946943</td>\n",
       "      <td>7.7</td>\n",
       "      <td>5415.0</td>\n",
       "      <td>[Tom Hanks, Tim Allen, Don Rickles]</td>\n",
       "      <td>[jealousy, toy, boy, friendship, friends, riva...</td>\n",
       "      <td>John Lasseter</td>\n",
       "    </tr>\n",
       "    <tr>\n",
       "      <th>1</th>\n",
       "      <td>['Adventure', 'Fantasy', 'Family']</td>\n",
       "      <td>8844</td>\n",
       "      <td>Jumanji</td>\n",
       "      <td>When siblings Judy and Peter discover an encha...</td>\n",
       "      <td>When siblings Judy and Peter discover an encha...</td>\n",
       "      <td>17.015539</td>\n",
       "      <td>6.9</td>\n",
       "      <td>2413.0</td>\n",
       "      <td>[Robin Williams, Jonathan Hyde, Kirsten Dunst]</td>\n",
       "      <td>[board game, disappearance, based on children'...</td>\n",
       "      <td>Joe Johnston</td>\n",
       "    </tr>\n",
       "    <tr>\n",
       "      <th>2</th>\n",
       "      <td>['Romance', 'Comedy']</td>\n",
       "      <td>15602</td>\n",
       "      <td>Grumpier Old Men</td>\n",
       "      <td>A family wedding reignites the ancient feud be...</td>\n",
       "      <td>A family wedding reignites the ancient feud be...</td>\n",
       "      <td>11.712900</td>\n",
       "      <td>6.5</td>\n",
       "      <td>92.0</td>\n",
       "      <td>[Walter Matthau, Jack Lemmon, Ann-Margret]</td>\n",
       "      <td>[fishing, best friend, duringcreditsstinger, o...</td>\n",
       "      <td>Howard Deutch</td>\n",
       "    </tr>\n",
       "    <tr>\n",
       "      <th>3</th>\n",
       "      <td>['Comedy', 'Drama', 'Romance']</td>\n",
       "      <td>31357</td>\n",
       "      <td>Waiting to Exhale</td>\n",
       "      <td>Cheated on, mistreated and stepped on, the wom...</td>\n",
       "      <td>Cheated on, mistreated and stepped on, the wom...</td>\n",
       "      <td>3.859495</td>\n",
       "      <td>6.1</td>\n",
       "      <td>34.0</td>\n",
       "      <td>[Whitney Houston, Angela Bassett, Loretta Devine]</td>\n",
       "      <td>[based on novel, interracial relationship, sin...</td>\n",
       "      <td>Forest Whitaker</td>\n",
       "    </tr>\n",
       "    <tr>\n",
       "      <th>4</th>\n",
       "      <td>['Comedy']</td>\n",
       "      <td>11862</td>\n",
       "      <td>Father of the Bride Part II</td>\n",
       "      <td>Just when George Banks has recovered from his ...</td>\n",
       "      <td>Just when George Banks has recovered from his ...</td>\n",
       "      <td>8.387519</td>\n",
       "      <td>5.7</td>\n",
       "      <td>173.0</td>\n",
       "      <td>[Steve Martin, Diane Keaton, Martin Short]</td>\n",
       "      <td>[baby, midlife crisis, confidence, aging, daug...</td>\n",
       "      <td>Charles Shyer</td>\n",
       "    </tr>\n",
       "  </tbody>\n",
       "</table>\n",
       "</div>"
      ],
      "text/plain": [
       "                               genres     id                        title  \\\n",
       "0   ['Animation', 'Comedy', 'Family']    862                    Toy Story   \n",
       "1  ['Adventure', 'Fantasy', 'Family']   8844                      Jumanji   \n",
       "2               ['Romance', 'Comedy']  15602             Grumpier Old Men   \n",
       "3      ['Comedy', 'Drama', 'Romance']  31357            Waiting to Exhale   \n",
       "4                          ['Comedy']  11862  Father of the Bride Part II   \n",
       "\n",
       "                                            overview  \\\n",
       "0  Led by Woody, Andy's toys live happily in his ...   \n",
       "1  When siblings Judy and Peter discover an encha...   \n",
       "2  A family wedding reignites the ancient feud be...   \n",
       "3  Cheated on, mistreated and stepped on, the wom...   \n",
       "4  Just when George Banks has recovered from his ...   \n",
       "\n",
       "                                         description  popularity  \\\n",
       "0  Led by Woody, Andy's toys live happily in his ...   21.946943   \n",
       "1  When siblings Judy and Peter discover an encha...   17.015539   \n",
       "2  A family wedding reignites the ancient feud be...   11.712900   \n",
       "3  Cheated on, mistreated and stepped on, the wom...    3.859495   \n",
       "4  Just when George Banks has recovered from his ...    8.387519   \n",
       "\n",
       "   vote_average  vote_count  \\\n",
       "0           7.7      5415.0   \n",
       "1           6.9      2413.0   \n",
       "2           6.5        92.0   \n",
       "3           6.1        34.0   \n",
       "4           5.7       173.0   \n",
       "\n",
       "                                                cast  \\\n",
       "0                [Tom Hanks, Tim Allen, Don Rickles]   \n",
       "1     [Robin Williams, Jonathan Hyde, Kirsten Dunst]   \n",
       "2         [Walter Matthau, Jack Lemmon, Ann-Margret]   \n",
       "3  [Whitney Houston, Angela Bassett, Loretta Devine]   \n",
       "4         [Steve Martin, Diane Keaton, Martin Short]   \n",
       "\n",
       "                                            keywords         director  \n",
       "0  [jealousy, toy, boy, friendship, friends, riva...    John Lasseter  \n",
       "1  [board game, disappearance, based on children'...     Joe Johnston  \n",
       "2  [fishing, best friend, duringcreditsstinger, o...    Howard Deutch  \n",
       "3  [based on novel, interracial relationship, sin...  Forest Whitaker  \n",
       "4  [baby, midlife crisis, confidence, aging, daug...    Charles Shyer  "
      ]
     },
     "execution_count": 13,
     "metadata": {},
     "output_type": "execute_result"
    }
   ],
   "source": [
    "merged = merged.drop(columns=[\"crew\"])\n",
    "merged.head()"
   ]
  },
  {
   "cell_type": "markdown",
   "id": "38c5a2d6-71af-4278-a912-9facb54cd776",
   "metadata": {},
   "source": [
    "En el caso de _keywords_ tenemos diferentes palabras que pueden estar o no repetidas. Dado que puede haber palabras que estén repetidas una única vez, vamos a filtrar aquellas palabras clave que al menos se repiten 2 veces para asegurarnos de que se pueda establecer una mejor comparación por el sistema de recomendación."
   ]
  },
  {
   "cell_type": "code",
   "execution_count": 14,
   "id": "16ecaf4a-40e9-4337-973d-5be7b6520f21",
   "metadata": {},
   "outputs": [],
   "source": [
    "kw_df = merged.apply(lambda x: pd.Series(x[\"keywords\"]), axis=1).stack().reset_index(level=1, drop=True)\n",
    "kw_count = kw_df.value_counts()"
   ]
  },
  {
   "cell_type": "code",
   "execution_count": 15,
   "id": "93b84981-60f5-4cb8-a565-1e26c56dde27",
   "metadata": {},
   "outputs": [],
   "source": [
    "kw_count = kw_count[kw_count > 1]"
   ]
  },
  {
   "cell_type": "markdown",
   "id": "fe9af787-ee32-4ea3-9eeb-95f59258ee69",
   "metadata": {},
   "source": [
    "Podríamos no realizar _stemming_ de las palabras clave y observar los resultados que nos otorga el sistema de recomendación sin llevar a cabo esta operación. Sin embargo, si dos películas contienen palabras clave en singular y otras en plural, será mejor que ambas estén solamente en singular, para que la comparación entre los metadatos sea más robusta. Para ello vamos a utilizar la librería de _nltk_."
   ]
  },
  {
   "cell_type": "code",
   "execution_count": 16,
   "id": "b4db9a50-5458-4c04-b862-23e9145ce02c",
   "metadata": {},
   "outputs": [],
   "source": [
    "from nltk.stem.snowball import SnowballStemmer\n",
    "\n",
    "stemmer = SnowballStemmer(\"english\")\n",
    "\n",
    "def kw_filter(x):\n",
    "    filtered = []\n",
    "    for word in x:\n",
    "        if word in kw_count:\n",
    "            filtered.append(word)\n",
    "    return filtered"
   ]
  },
  {
   "cell_type": "code",
   "execution_count": 17,
   "id": "46f5a1ec-8f43-485b-98ae-21a6edfbdc4a",
   "metadata": {},
   "outputs": [],
   "source": [
    "merged[\"keywords\"] = merged[\"keywords\"].transform(func=kw_filter)\n",
    "merged[\"keywords\"] = merged[\"keywords\"].transform(func=lambda x: [stemmer.stem(w) for w in x])"
   ]
  },
  {
   "cell_type": "code",
   "execution_count": 18,
   "id": "1dc86bd7-d6af-4ffe-bc60-be7509f9253d",
   "metadata": {},
   "outputs": [
    {
     "data": {
      "text/html": [
       "<div>\n",
       "<style scoped>\n",
       "    .dataframe tbody tr th:only-of-type {\n",
       "        vertical-align: middle;\n",
       "    }\n",
       "\n",
       "    .dataframe tbody tr th {\n",
       "        vertical-align: top;\n",
       "    }\n",
       "\n",
       "    .dataframe thead th {\n",
       "        text-align: right;\n",
       "    }\n",
       "</style>\n",
       "<table border=\"1\" class=\"dataframe\">\n",
       "  <thead>\n",
       "    <tr style=\"text-align: right;\">\n",
       "      <th></th>\n",
       "      <th>genres</th>\n",
       "      <th>id</th>\n",
       "      <th>title</th>\n",
       "      <th>overview</th>\n",
       "      <th>description</th>\n",
       "      <th>popularity</th>\n",
       "      <th>vote_average</th>\n",
       "      <th>vote_count</th>\n",
       "      <th>cast</th>\n",
       "      <th>keywords</th>\n",
       "      <th>director</th>\n",
       "    </tr>\n",
       "  </thead>\n",
       "  <tbody>\n",
       "    <tr>\n",
       "      <th>0</th>\n",
       "      <td>['Animation', 'Comedy', 'Family']</td>\n",
       "      <td>862</td>\n",
       "      <td>Toy Story</td>\n",
       "      <td>Led by Woody, Andy's toys live happily in his ...</td>\n",
       "      <td>Led by Woody, Andy's toys live happily in his ...</td>\n",
       "      <td>21.946943</td>\n",
       "      <td>7.7</td>\n",
       "      <td>5415.0</td>\n",
       "      <td>[Tom Hanks, Tim Allen, Don Rickles]</td>\n",
       "      <td>[jealousi, toy, boy, friendship, friend, rival...</td>\n",
       "      <td>John Lasseter</td>\n",
       "    </tr>\n",
       "    <tr>\n",
       "      <th>1</th>\n",
       "      <td>['Adventure', 'Fantasy', 'Family']</td>\n",
       "      <td>8844</td>\n",
       "      <td>Jumanji</td>\n",
       "      <td>When siblings Judy and Peter discover an encha...</td>\n",
       "      <td>When siblings Judy and Peter discover an encha...</td>\n",
       "      <td>17.015539</td>\n",
       "      <td>6.9</td>\n",
       "      <td>2413.0</td>\n",
       "      <td>[Robin Williams, Jonathan Hyde, Kirsten Dunst]</td>\n",
       "      <td>[board gam, disappear, based on children's boo...</td>\n",
       "      <td>Joe Johnston</td>\n",
       "    </tr>\n",
       "    <tr>\n",
       "      <th>2</th>\n",
       "      <td>['Romance', 'Comedy']</td>\n",
       "      <td>15602</td>\n",
       "      <td>Grumpier Old Men</td>\n",
       "      <td>A family wedding reignites the ancient feud be...</td>\n",
       "      <td>A family wedding reignites the ancient feud be...</td>\n",
       "      <td>11.712900</td>\n",
       "      <td>6.5</td>\n",
       "      <td>92.0</td>\n",
       "      <td>[Walter Matthau, Jack Lemmon, Ann-Margret]</td>\n",
       "      <td>[fish, best friend, duringcreditssting]</td>\n",
       "      <td>Howard Deutch</td>\n",
       "    </tr>\n",
       "  </tbody>\n",
       "</table>\n",
       "</div>"
      ],
      "text/plain": [
       "                               genres     id             title  \\\n",
       "0   ['Animation', 'Comedy', 'Family']    862         Toy Story   \n",
       "1  ['Adventure', 'Fantasy', 'Family']   8844           Jumanji   \n",
       "2               ['Romance', 'Comedy']  15602  Grumpier Old Men   \n",
       "\n",
       "                                            overview  \\\n",
       "0  Led by Woody, Andy's toys live happily in his ...   \n",
       "1  When siblings Judy and Peter discover an encha...   \n",
       "2  A family wedding reignites the ancient feud be...   \n",
       "\n",
       "                                         description  popularity  \\\n",
       "0  Led by Woody, Andy's toys live happily in his ...   21.946943   \n",
       "1  When siblings Judy and Peter discover an encha...   17.015539   \n",
       "2  A family wedding reignites the ancient feud be...   11.712900   \n",
       "\n",
       "   vote_average  vote_count                                            cast  \\\n",
       "0           7.7      5415.0             [Tom Hanks, Tim Allen, Don Rickles]   \n",
       "1           6.9      2413.0  [Robin Williams, Jonathan Hyde, Kirsten Dunst]   \n",
       "2           6.5        92.0      [Walter Matthau, Jack Lemmon, Ann-Margret]   \n",
       "\n",
       "                                            keywords       director  \n",
       "0  [jealousi, toy, boy, friendship, friend, rival...  John Lasseter  \n",
       "1  [board gam, disappear, based on children's boo...   Joe Johnston  \n",
       "2            [fish, best friend, duringcreditssting]  Howard Deutch  "
      ]
     },
     "execution_count": 18,
     "metadata": {},
     "output_type": "execute_result"
    }
   ],
   "source": [
    "merged.head(3)"
   ]
  },
  {
   "cell_type": "markdown",
   "id": "78b4d277-35b7-4867-beb2-dc61455343b0",
   "metadata": {},
   "source": [
    "Para finalizar nuestro tratamiento de datos, vamos a crear una columna de metadatos que englobe las siguientes características:\n",
    "\n",
    "- Actores\n",
    "- Director\n",
    "- Géneros\n",
    "- Palabras clave\n",
    "\n",
    "Para la creación de esta nueva categoría tenemos que \"estandarizar\" nuestros datos. Para ello lo que vamos a hacer es una serie de transformaciones para que el resultado nos dé todas las palabras en minúscula y separadas por un espacio. De manera excepcional, vamos a juntar el nombre y apellido de los directores en una única palabra para evitar que el sistema de recomendación compare dos películas como similares cuando sus directores compartan nombre y no apellido."
   ]
  },
  {
   "cell_type": "code",
   "execution_count": 19,
   "id": "f73c8bf8-1f51-4c15-b7ff-8285fd2703db",
   "metadata": {},
   "outputs": [],
   "source": [
    "merged[\"director\"] = merged[\"director\"].astype(\"str\").transform(lambda x: [str.lower(x.replace(\" \", \"\"))])\n",
    "for col in (\"keywords\", \"cast\"):\n",
    "    merged[col] = merged[col].transform(func=lambda x: [str.lower(w.replace(\" \", \"\")) for w in x])\n",
    "merged[\"genres\"] = merged[\"genres\"].transform(func=lambda x: [w.lower().replace(\" \", \"\") for w in ast.literal_eval(x)])"
   ]
  },
  {
   "cell_type": "code",
   "execution_count": 20,
   "id": "4820b285-c778-44c2-974b-2c2b590247c3",
   "metadata": {},
   "outputs": [],
   "source": [
    "merged[\"metadata\"] = merged[\"keywords\"] + merged[\"cast\"] + merged[\"director\"] + merged[\"genres\"]\n",
    "merged[\"metadata\"] = merged[\"metadata\"].transform(func=lambda x: \" \".join(x))"
   ]
  },
  {
   "cell_type": "code",
   "execution_count": 21,
   "id": "e8af4cf5-17b5-4705-9b8f-fa284b188945",
   "metadata": {},
   "outputs": [
    {
     "data": {
      "text/html": [
       "<div>\n",
       "<style scoped>\n",
       "    .dataframe tbody tr th:only-of-type {\n",
       "        vertical-align: middle;\n",
       "    }\n",
       "\n",
       "    .dataframe tbody tr th {\n",
       "        vertical-align: top;\n",
       "    }\n",
       "\n",
       "    .dataframe thead th {\n",
       "        text-align: right;\n",
       "    }\n",
       "</style>\n",
       "<table border=\"1\" class=\"dataframe\">\n",
       "  <thead>\n",
       "    <tr style=\"text-align: right;\">\n",
       "      <th></th>\n",
       "      <th>genres</th>\n",
       "      <th>id</th>\n",
       "      <th>title</th>\n",
       "      <th>overview</th>\n",
       "      <th>description</th>\n",
       "      <th>popularity</th>\n",
       "      <th>vote_average</th>\n",
       "      <th>vote_count</th>\n",
       "      <th>cast</th>\n",
       "      <th>keywords</th>\n",
       "      <th>director</th>\n",
       "      <th>metadata</th>\n",
       "    </tr>\n",
       "  </thead>\n",
       "  <tbody>\n",
       "    <tr>\n",
       "      <th>0</th>\n",
       "      <td>[animation, comedy, family]</td>\n",
       "      <td>862</td>\n",
       "      <td>Toy Story</td>\n",
       "      <td>Led by Woody, Andy's toys live happily in his ...</td>\n",
       "      <td>Led by Woody, Andy's toys live happily in his ...</td>\n",
       "      <td>21.946943</td>\n",
       "      <td>7.7</td>\n",
       "      <td>5415.0</td>\n",
       "      <td>[tomhanks, timallen, donrickles]</td>\n",
       "      <td>[jealousi, toy, boy, friendship, friend, rival...</td>\n",
       "      <td>[johnlasseter]</td>\n",
       "      <td>jealousi toy boy friendship friend rivalri boy...</td>\n",
       "    </tr>\n",
       "    <tr>\n",
       "      <th>1</th>\n",
       "      <td>[adventure, fantasy, family]</td>\n",
       "      <td>8844</td>\n",
       "      <td>Jumanji</td>\n",
       "      <td>When siblings Judy and Peter discover an encha...</td>\n",
       "      <td>When siblings Judy and Peter discover an encha...</td>\n",
       "      <td>17.015539</td>\n",
       "      <td>6.9</td>\n",
       "      <td>2413.0</td>\n",
       "      <td>[robinwilliams, jonathanhyde, kirstendunst]</td>\n",
       "      <td>[boardgam, disappear, basedonchildren'sbook, n...</td>\n",
       "      <td>[joejohnston]</td>\n",
       "      <td>boardgam disappear basedonchildren'sbook newho...</td>\n",
       "    </tr>\n",
       "    <tr>\n",
       "      <th>2</th>\n",
       "      <td>[romance, comedy]</td>\n",
       "      <td>15602</td>\n",
       "      <td>Grumpier Old Men</td>\n",
       "      <td>A family wedding reignites the ancient feud be...</td>\n",
       "      <td>A family wedding reignites the ancient feud be...</td>\n",
       "      <td>11.712900</td>\n",
       "      <td>6.5</td>\n",
       "      <td>92.0</td>\n",
       "      <td>[waltermatthau, jacklemmon, ann-margret]</td>\n",
       "      <td>[fish, bestfriend, duringcreditssting]</td>\n",
       "      <td>[howarddeutch]</td>\n",
       "      <td>fish bestfriend duringcreditssting waltermatth...</td>\n",
       "    </tr>\n",
       "  </tbody>\n",
       "</table>\n",
       "</div>"
      ],
      "text/plain": [
       "                         genres     id             title  \\\n",
       "0   [animation, comedy, family]    862         Toy Story   \n",
       "1  [adventure, fantasy, family]   8844           Jumanji   \n",
       "2             [romance, comedy]  15602  Grumpier Old Men   \n",
       "\n",
       "                                            overview  \\\n",
       "0  Led by Woody, Andy's toys live happily in his ...   \n",
       "1  When siblings Judy and Peter discover an encha...   \n",
       "2  A family wedding reignites the ancient feud be...   \n",
       "\n",
       "                                         description  popularity  \\\n",
       "0  Led by Woody, Andy's toys live happily in his ...   21.946943   \n",
       "1  When siblings Judy and Peter discover an encha...   17.015539   \n",
       "2  A family wedding reignites the ancient feud be...   11.712900   \n",
       "\n",
       "   vote_average  vote_count                                         cast  \\\n",
       "0           7.7      5415.0             [tomhanks, timallen, donrickles]   \n",
       "1           6.9      2413.0  [robinwilliams, jonathanhyde, kirstendunst]   \n",
       "2           6.5        92.0     [waltermatthau, jacklemmon, ann-margret]   \n",
       "\n",
       "                                            keywords        director  \\\n",
       "0  [jealousi, toy, boy, friendship, friend, rival...  [johnlasseter]   \n",
       "1  [boardgam, disappear, basedonchildren'sbook, n...   [joejohnston]   \n",
       "2             [fish, bestfriend, duringcreditssting]  [howarddeutch]   \n",
       "\n",
       "                                            metadata  \n",
       "0  jealousi toy boy friendship friend rivalri boy...  \n",
       "1  boardgam disappear basedonchildren'sbook newho...  \n",
       "2  fish bestfriend duringcreditssting waltermatth...  "
      ]
     },
     "execution_count": 21,
     "metadata": {},
     "output_type": "execute_result"
    }
   ],
   "source": [
    "merged.head(3)"
   ]
  },
  {
   "cell_type": "code",
   "execution_count": 22,
   "id": "960f1c8f-7c03-4a2c-bdaa-7d175e262783",
   "metadata": {},
   "outputs": [],
   "source": [
    "merged = merged.drop_duplicates(\"id\")\n",
    "merged = merged.drop_duplicates(\"title\")"
   ]
  },
  {
   "cell_type": "code",
   "execution_count": 23,
   "id": "0b2f3f1d-3f99-43c4-a842-5f422b8b1e75",
   "metadata": {},
   "outputs": [
    {
     "data": {
      "text/plain": [
       "(41361, 12)"
      ]
     },
     "execution_count": 23,
     "metadata": {},
     "output_type": "execute_result"
    }
   ],
   "source": [
    "merged.shape"
   ]
  },
  {
   "cell_type": "code",
   "execution_count": 24,
   "id": "2979f888-94c3-4830-acf2-2c13fc54b693",
   "metadata": {},
   "outputs": [],
   "source": [
    "merged.to_csv(os.path.join(DATA_PATH, \"CSV\", \"cleaned_content_based.csv\"), index=False)"
   ]
  },
  {
   "cell_type": "code",
   "execution_count": null,
   "id": "011eaa18-cfbb-4ab0-a61e-e5c83de8a269",
   "metadata": {},
   "outputs": [],
   "source": []
  }
 ],
 "metadata": {
  "kernelspec": {
   "display_name": "Python 3 (ipykernel)",
   "language": "python",
   "name": "python3"
  },
  "language_info": {
   "codemirror_mode": {
    "name": "ipython",
    "version": 3
   },
   "file_extension": ".py",
   "mimetype": "text/x-python",
   "name": "python",
   "nbconvert_exporter": "python",
   "pygments_lexer": "ipython3",
   "version": "3.10.13"
  }
 },
 "nbformat": 4,
 "nbformat_minor": 5
}
