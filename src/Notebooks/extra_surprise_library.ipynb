{
 "cells": [
  {
   "cell_type": "code",
   "execution_count": 1,
   "id": "755ba7e3-cd25-4e1c-8524-822852502710",
   "metadata": {},
   "outputs": [],
   "source": [
    "import pandas as pd\n",
    "import numpy as np"
   ]
  },
  {
   "cell_type": "code",
   "execution_count": 2,
   "id": "820445c4-2584-4150-8d3e-3aea211349a3",
   "metadata": {},
   "outputs": [],
   "source": [
    "from dotenv import load_dotenv\n",
    "import os\n",
    "\n",
    "load_dotenv()\n",
    "\n",
    "data_path = os.getenv(\"FILES_PATH\")\n",
    "IMAGES_PATH = os.path.join(data_path, \"PNG\", \"collaborative_filtering\")\n",
    "os.makedirs(IMAGES_PATH, exist_ok=True)\n",
    "\n",
    "def save_fig(fig_id, tight_layout=True, extension=\"png\", resolution=300):  # Función para guardar las figuras que se vayan generando\n",
    "    img_path = os.path.join(IMAGES_PATH, fig_id + \".\" + extension)\n",
    "    if tight_layout:\n",
    "        plt.tight_layout()\n",
    "    plt.savefig(img_path, format=extension, dpi=resolution)"
   ]
  },
  {
   "cell_type": "code",
   "execution_count": 3,
   "id": "e1372b8f-7529-4dee-a61e-bd4041d52f85",
   "metadata": {},
   "outputs": [],
   "source": [
    "from matplotlib import pyplot as plt\n",
    "\n",
    "# Configuración de parámetros de matplotlib\n",
    "\n",
    "plt.rc(\"font\", size=14)\n",
    "plt.rc(\"axes\", labelsize=14, titlesize=14)\n",
    "plt.rc(\"legend\", fontsize=14)\n",
    "plt.rc(\"xtick\", labelsize=10)\n",
    "plt.rc(\"ytick\", labelsize=10)"
   ]
  },
  {
   "cell_type": "code",
   "execution_count": 4,
   "id": "2eadb086-f75f-44ae-b5e2-fde3deb4f032",
   "metadata": {},
   "outputs": [],
   "source": [
    "df = pd.read_csv(os.path.join(data_path, \"CSV\", \"ratings_small.csv\"), low_memory=False)"
   ]
  },
  {
   "cell_type": "markdown",
   "id": "48f88a7f-a2b5-4848-acd5-b4945c5d1b2b",
   "metadata": {},
   "source": [
    "# Collaborative Filtering"
   ]
  },
  {
   "cell_type": "markdown",
   "id": "c991032d-9bca-4118-92be-fe10704f4256",
   "metadata": {},
   "source": [
    "El filtro colaborativo es un tipo de sistema de recomendación que se le da a un usuario basado en la similaridad con otros usuarios y la valoración de los usuarios sobre los productos que han visto (en nuestro caso películas). Vamos a realizar un estudio de algoritmos de filtro colaborativo con nuestro set de datos **ratings_small.csv**, que ya está preparado para ser utilizado. En este fichero tenemos IDs de diferentes usuarios y la valoración que le han proporcionado a ciertas películas, de las cuales solamente tenemos el ID.\n",
    "\n",
    "Vamos a utilizar la librería [surprise](https://surpriselib.com) para la realización de estos modelos sencillos. Esta librería es un [sci-kit](https://projects.scipy.org/scikits.html) de _Python_ que está preparado para el análisis y la implementación de modelos de sistemas de recomendación."
   ]
  },
  {
   "cell_type": "code",
   "execution_count": 7,
   "id": "a28ed1f6-b706-4ac9-9000-e589b1ae2038",
   "metadata": {},
   "outputs": [
    {
     "ename": "ModuleNotFoundError",
     "evalue": "No module named 'surprise'",
     "output_type": "error",
     "traceback": [
      "\u001b[0;31m---------------------------------------------------------------------------\u001b[0m",
      "\u001b[0;31mModuleNotFoundError\u001b[0m                       Traceback (most recent call last)",
      "Cell \u001b[0;32mIn[7], line 1\u001b[0m\n\u001b[0;32m----> 1\u001b[0m \u001b[38;5;28;01mfrom\u001b[39;00m \u001b[38;5;21;01msurprise\u001b[39;00m \u001b[38;5;28;01mimport\u001b[39;00m Dataset\n\u001b[1;32m      2\u001b[0m \u001b[38;5;28;01mfrom\u001b[39;00m \u001b[38;5;21;01msurprise\u001b[39;00m \u001b[38;5;28;01mimport\u001b[39;00m Reader\n\u001b[1;32m      3\u001b[0m \u001b[38;5;28;01mfrom\u001b[39;00m \u001b[38;5;21;01msurprise\u001b[39;00m \u001b[38;5;28;01mimport\u001b[39;00m SVD\n",
      "\u001b[0;31mModuleNotFoundError\u001b[0m: No module named 'surprise'"
     ]
    }
   ],
   "source": [
    "from surprise import Dataset\n",
    "from surprise import Reader\n",
    "from surprise import SVD\n",
    "\n",
    "relevant_cols = [\"userId\", \"movieId\", \"rating\"]\n",
    "reader = Reader()\n",
    "\n",
    "# Construye un Dataset de surprise\n",
    "data = Dataset.load_from_df(df[relevant_cols], reader)"
   ]
  },
  {
   "cell_type": "code",
   "execution_count": 6,
   "id": "72cd3d9a-cf90-4d15-86e9-c92dc029b091",
   "metadata": {},
   "outputs": [],
   "source": [
    "svd_model = SVD(n_factors=100, n_epochs=50, biased=False, lr_all=1e-2, reg_all=0.1)"
   ]
  },
  {
   "cell_type": "code",
   "execution_count": 7,
   "id": "809797b2-4241-4c85-bb37-188dc008810a",
   "metadata": {},
   "outputs": [
    {
     "name": "stdout",
     "output_type": "stream",
     "text": [
      "Evaluating RMSE, MAE of algorithm SVD on 5 split(s).\n",
      "\n",
      "                  Fold 1  Fold 2  Fold 3  Fold 4  Fold 5  Mean    Std     \n",
      "RMSE (testset)    0.9203  0.9274  0.9267  0.9311  0.9188  0.9249  0.0046  \n",
      "MAE (testset)     0.7149  0.7198  0.7222  0.7252  0.7130  0.7190  0.0045  \n",
      "Fit time          0.90    0.79    0.81    0.78    0.78    0.81    0.05    \n",
      "Test time         0.06    0.03    0.06    0.03    0.03    0.04    0.01    \n"
     ]
    },
    {
     "data": {
      "text/plain": [
       "{'test_rmse': array([0.92034923, 0.92743441, 0.92669736, 0.93113767, 0.91880171]),\n",
       " 'test_mae': array([0.71489485, 0.71982049, 0.72223091, 0.72517207, 0.71302293]),\n",
       " 'fit_time': (0.8988659381866455,\n",
       "  0.7855687141418457,\n",
       "  0.8089981079101562,\n",
       "  0.7817060947418213,\n",
       "  0.7769689559936523),\n",
       " 'test_time': (0.06200718879699707,\n",
       "  0.03414797782897949,\n",
       "  0.05946493148803711,\n",
       "  0.0339658260345459,\n",
       "  0.03248095512390137)}"
      ]
     },
     "execution_count": 7,
     "metadata": {},
     "output_type": "execute_result"
    }
   ],
   "source": [
    "from surprise.model_selection import cross_validate\n",
    "\n",
    "cross_validate(svd_model, data, cv=5, measures=[\"RMSE\", \"MAE\"], verbose=True)"
   ]
  },
  {
   "cell_type": "code",
   "execution_count": 8,
   "id": "96f2ff6d-f310-4b44-ac22-f567e0f43509",
   "metadata": {},
   "outputs": [],
   "source": [
    "from surprise import KNNWithMeans, NormalPredictor, CoClustering\n",
    "\n",
    "knn_model = KNNWithMeans(verbose=False)\n",
    "np_model = NormalPredictor()\n",
    "ccl_model = CoClustering(n_cltr_u=5, n_cltr_i=5, n_epochs=50, random_state=42)"
   ]
  },
  {
   "cell_type": "code",
   "execution_count": 9,
   "id": "a348ba52-815e-48f5-ac93-0ce1e72c4909",
   "metadata": {},
   "outputs": [],
   "source": [
    "models = [svd_model, knn_model, np_model, ccl_model]\n",
    "\n",
    "result_list = []\n",
    "for model in models:\n",
    "    tmp_result = cross_validate(model, data, cv=5, measures=[\"RMSE\", \"MAE\"], verbose=False)\n",
    "    tmp_df = pd.DataFrame.from_dict(tmp_result).mean(axis=0)\n",
    "    tmp_df = pd.concat([tmp_df, pd.Series([str(model).split(\" \")[0].split(\".\")[-1]], index=[\"Algorithm\"])])\n",
    "    result_list.append(tmp_df)"
   ]
  },
  {
   "cell_type": "code",
   "execution_count": 10,
   "id": "39d5a02c-31b6-407a-a84e-29556ca94e84",
   "metadata": {},
   "outputs": [
    {
     "data": {
      "text/html": [
       "<div>\n",
       "<style scoped>\n",
       "    .dataframe tbody tr th:only-of-type {\n",
       "        vertical-align: middle;\n",
       "    }\n",
       "\n",
       "    .dataframe tbody tr th {\n",
       "        vertical-align: top;\n",
       "    }\n",
       "\n",
       "    .dataframe thead th {\n",
       "        text-align: right;\n",
       "    }\n",
       "</style>\n",
       "<table border=\"1\" class=\"dataframe\">\n",
       "  <thead>\n",
       "    <tr style=\"text-align: right;\">\n",
       "      <th></th>\n",
       "      <th>test_rmse</th>\n",
       "      <th>test_mae</th>\n",
       "      <th>fit_time</th>\n",
       "      <th>test_time</th>\n",
       "    </tr>\n",
       "    <tr>\n",
       "      <th>Algorithm</th>\n",
       "      <th></th>\n",
       "      <th></th>\n",
       "      <th></th>\n",
       "      <th></th>\n",
       "    </tr>\n",
       "  </thead>\n",
       "  <tbody>\n",
       "    <tr>\n",
       "      <th>NormalPredictor</th>\n",
       "      <td>1.438581</td>\n",
       "      <td>1.149567</td>\n",
       "      <td>0.026529</td>\n",
       "      <td>0.045492</td>\n",
       "    </tr>\n",
       "    <tr>\n",
       "      <th>CoClustering</th>\n",
       "      <td>0.971696</td>\n",
       "      <td>0.751926</td>\n",
       "      <td>1.491682</td>\n",
       "      <td>0.050699</td>\n",
       "    </tr>\n",
       "    <tr>\n",
       "      <th>SVD</th>\n",
       "      <td>0.921309</td>\n",
       "      <td>0.715919</td>\n",
       "      <td>0.783217</td>\n",
       "      <td>0.043786</td>\n",
       "    </tr>\n",
       "    <tr>\n",
       "      <th>KNNWithMeans</th>\n",
       "      <td>0.918583</td>\n",
       "      <td>0.703100</td>\n",
       "      <td>0.032556</td>\n",
       "      <td>0.459519</td>\n",
       "    </tr>\n",
       "  </tbody>\n",
       "</table>\n",
       "</div>"
      ],
      "text/plain": [
       "                 test_rmse  test_mae  fit_time  test_time\n",
       "Algorithm                                                \n",
       "NormalPredictor   1.438581  1.149567  0.026529   0.045492\n",
       "CoClustering      0.971696  0.751926  1.491682   0.050699\n",
       "SVD               0.921309  0.715919  0.783217   0.043786\n",
       "KNNWithMeans      0.918583  0.703100  0.032556   0.459519"
      ]
     },
     "execution_count": 10,
     "metadata": {},
     "output_type": "execute_result"
    }
   ],
   "source": [
    "result_df = pd.DataFrame(result_list).set_index(\"Algorithm\").sort_values(\"test_rmse\", ascending=False)\n",
    "result_df.head()"
   ]
  },
  {
   "cell_type": "code",
   "execution_count": null,
   "id": "fc0d425f-8d7e-4fd9-befc-7c44bea10a61",
   "metadata": {},
   "outputs": [],
   "source": []
  }
 ],
 "metadata": {
  "kernelspec": {
   "display_name": "Python 3 (ipykernel)",
   "language": "python",
   "name": "python3"
  },
  "language_info": {
   "codemirror_mode": {
    "name": "ipython",
    "version": 3
   },
   "file_extension": ".py",
   "mimetype": "text/x-python",
   "name": "python",
   "nbconvert_exporter": "python",
   "pygments_lexer": "ipython3",
   "version": "3.11.9"
  }
 },
 "nbformat": 4,
 "nbformat_minor": 5
}
