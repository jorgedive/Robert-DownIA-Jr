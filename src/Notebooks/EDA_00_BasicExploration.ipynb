{
 "cells": [
  {
   "cell_type": "markdown",
   "id": "a2eedc89-d174-4ad1-baeb-8d5e3386daca",
   "metadata": {},
   "source": [
    "# EDA 00 - Exploración de los datos del dataset principal"
   ]
  },
  {
   "cell_type": "markdown",
   "id": "e1403caa-8eaa-4635-be43-e4be31435ece",
   "metadata": {},
   "source": [
    "Nuestro dataset contiene diferentes ficheros con informaciones distintas. De esta forma, podremos crear diferentes sistemas de recomendación, de distinta complejidad y poder comparar los resultados de los mismos. De esta forma podremos aumentar nuestro entendimiento de los sistemas de recomendación y su funcionamiento. Encontramos los siguientes fichero en nuestro set de datos:\n",
    "\n",
    "- **movies_metadata.csv** contiene los datos de las películas de manera general\n",
    "- **credits.csv** contiene información relativa a los actores y director de las películas\n",
    "- **keywords.csv** contiene información sobre palabras clave de las películas\n",
    "- **ratings.csv** contiene datos relativos a diferentes usuarios y los rating que otorgan a las películas\n",
    "\n",
    "Existen dos archivos más, que son para utilizarse con una porción del dataset más pequeña. En nuestro caso vamos a utilizar el dataset completo. En este _notebook_ trataremos únicamente con el fichero **movies_metadata.csv** y en diferentes _notebooks_ procesaremos los datos de los otros archivos."
   ]
  },
  {
   "cell_type": "code",
   "execution_count": 1,
   "id": "57cddeac-60f0-4932-96c4-0af1c5ebc3e6",
   "metadata": {},
   "outputs": [],
   "source": [
    "import pandas as pd\n",
    "import numpy as np\n",
    "import matplotlib.pyplot as plt\n",
    "import seaborn as sns"
   ]
  },
  {
   "cell_type": "markdown",
   "id": "d948c28e-a9c8-434c-9704-7010142bfa0a",
   "metadata": {},
   "source": [
    "## Importación del _dataset_"
   ]
  },
  {
   "cell_type": "code",
   "execution_count": 2,
   "id": "5e9b18e7-916e-4986-be77-52766e41cf20",
   "metadata": {},
   "outputs": [],
   "source": [
    "import os\n",
    "from dotenv import load_dotenv\n",
    "\n",
    "load_dotenv()\n",
    "\n",
    "DATA_PATH = os.getenv(\"FILES_PATH\")"
   ]
  },
  {
   "cell_type": "code",
   "execution_count": 3,
   "id": "180d7200-ed30-4517-b61e-43685743972f",
   "metadata": {},
   "outputs": [
    {
     "data": {
      "text/html": [
       "<div>\n",
       "<style scoped>\n",
       "    .dataframe tbody tr th:only-of-type {\n",
       "        vertical-align: middle;\n",
       "    }\n",
       "\n",
       "    .dataframe tbody tr th {\n",
       "        vertical-align: top;\n",
       "    }\n",
       "\n",
       "    .dataframe thead th {\n",
       "        text-align: right;\n",
       "    }\n",
       "</style>\n",
       "<table border=\"1\" class=\"dataframe\">\n",
       "  <thead>\n",
       "    <tr style=\"text-align: right;\">\n",
       "      <th></th>\n",
       "      <th>adult</th>\n",
       "      <th>belongs_to_collection</th>\n",
       "      <th>budget</th>\n",
       "      <th>genres</th>\n",
       "      <th>homepage</th>\n",
       "      <th>id</th>\n",
       "      <th>imdb_id</th>\n",
       "      <th>original_language</th>\n",
       "      <th>original_title</th>\n",
       "      <th>overview</th>\n",
       "      <th>...</th>\n",
       "      <th>release_date</th>\n",
       "      <th>revenue</th>\n",
       "      <th>runtime</th>\n",
       "      <th>spoken_languages</th>\n",
       "      <th>status</th>\n",
       "      <th>tagline</th>\n",
       "      <th>title</th>\n",
       "      <th>video</th>\n",
       "      <th>vote_average</th>\n",
       "      <th>vote_count</th>\n",
       "    </tr>\n",
       "  </thead>\n",
       "  <tbody>\n",
       "    <tr>\n",
       "      <th>0</th>\n",
       "      <td>False</td>\n",
       "      <td>{'id': 10194, 'name': 'Toy Story Collection', ...</td>\n",
       "      <td>30000000</td>\n",
       "      <td>[{'id': 16, 'name': 'Animation'}, {'id': 35, '...</td>\n",
       "      <td>http://toystory.disney.com/toy-story</td>\n",
       "      <td>862</td>\n",
       "      <td>tt0114709</td>\n",
       "      <td>en</td>\n",
       "      <td>Toy Story</td>\n",
       "      <td>Led by Woody, Andy's toys live happily in his ...</td>\n",
       "      <td>...</td>\n",
       "      <td>1995-10-30</td>\n",
       "      <td>373554033.0</td>\n",
       "      <td>81.0</td>\n",
       "      <td>[{'iso_639_1': 'en', 'name': 'English'}]</td>\n",
       "      <td>Released</td>\n",
       "      <td>NaN</td>\n",
       "      <td>Toy Story</td>\n",
       "      <td>False</td>\n",
       "      <td>7.7</td>\n",
       "      <td>5415.0</td>\n",
       "    </tr>\n",
       "    <tr>\n",
       "      <th>1</th>\n",
       "      <td>False</td>\n",
       "      <td>NaN</td>\n",
       "      <td>65000000</td>\n",
       "      <td>[{'id': 12, 'name': 'Adventure'}, {'id': 14, '...</td>\n",
       "      <td>NaN</td>\n",
       "      <td>8844</td>\n",
       "      <td>tt0113497</td>\n",
       "      <td>en</td>\n",
       "      <td>Jumanji</td>\n",
       "      <td>When siblings Judy and Peter discover an encha...</td>\n",
       "      <td>...</td>\n",
       "      <td>1995-12-15</td>\n",
       "      <td>262797249.0</td>\n",
       "      <td>104.0</td>\n",
       "      <td>[{'iso_639_1': 'en', 'name': 'English'}, {'iso...</td>\n",
       "      <td>Released</td>\n",
       "      <td>Roll the dice and unleash the excitement!</td>\n",
       "      <td>Jumanji</td>\n",
       "      <td>False</td>\n",
       "      <td>6.9</td>\n",
       "      <td>2413.0</td>\n",
       "    </tr>\n",
       "    <tr>\n",
       "      <th>2</th>\n",
       "      <td>False</td>\n",
       "      <td>{'id': 119050, 'name': 'Grumpy Old Men Collect...</td>\n",
       "      <td>0</td>\n",
       "      <td>[{'id': 10749, 'name': 'Romance'}, {'id': 35, ...</td>\n",
       "      <td>NaN</td>\n",
       "      <td>15602</td>\n",
       "      <td>tt0113228</td>\n",
       "      <td>en</td>\n",
       "      <td>Grumpier Old Men</td>\n",
       "      <td>A family wedding reignites the ancient feud be...</td>\n",
       "      <td>...</td>\n",
       "      <td>1995-12-22</td>\n",
       "      <td>0.0</td>\n",
       "      <td>101.0</td>\n",
       "      <td>[{'iso_639_1': 'en', 'name': 'English'}]</td>\n",
       "      <td>Released</td>\n",
       "      <td>Still Yelling. Still Fighting. Still Ready for...</td>\n",
       "      <td>Grumpier Old Men</td>\n",
       "      <td>False</td>\n",
       "      <td>6.5</td>\n",
       "      <td>92.0</td>\n",
       "    </tr>\n",
       "  </tbody>\n",
       "</table>\n",
       "<p>3 rows × 24 columns</p>\n",
       "</div>"
      ],
      "text/plain": [
       "   adult                              belongs_to_collection    budget  \\\n",
       "0  False  {'id': 10194, 'name': 'Toy Story Collection', ...  30000000   \n",
       "1  False                                                NaN  65000000   \n",
       "2  False  {'id': 119050, 'name': 'Grumpy Old Men Collect...         0   \n",
       "\n",
       "                                              genres  \\\n",
       "0  [{'id': 16, 'name': 'Animation'}, {'id': 35, '...   \n",
       "1  [{'id': 12, 'name': 'Adventure'}, {'id': 14, '...   \n",
       "2  [{'id': 10749, 'name': 'Romance'}, {'id': 35, ...   \n",
       "\n",
       "                               homepage     id    imdb_id original_language  \\\n",
       "0  http://toystory.disney.com/toy-story    862  tt0114709                en   \n",
       "1                                   NaN   8844  tt0113497                en   \n",
       "2                                   NaN  15602  tt0113228                en   \n",
       "\n",
       "     original_title                                           overview  ...  \\\n",
       "0         Toy Story  Led by Woody, Andy's toys live happily in his ...  ...   \n",
       "1           Jumanji  When siblings Judy and Peter discover an encha...  ...   \n",
       "2  Grumpier Old Men  A family wedding reignites the ancient feud be...  ...   \n",
       "\n",
       "  release_date      revenue runtime  \\\n",
       "0   1995-10-30  373554033.0    81.0   \n",
       "1   1995-12-15  262797249.0   104.0   \n",
       "2   1995-12-22          0.0   101.0   \n",
       "\n",
       "                                    spoken_languages    status  \\\n",
       "0           [{'iso_639_1': 'en', 'name': 'English'}]  Released   \n",
       "1  [{'iso_639_1': 'en', 'name': 'English'}, {'iso...  Released   \n",
       "2           [{'iso_639_1': 'en', 'name': 'English'}]  Released   \n",
       "\n",
       "                                             tagline             title  video  \\\n",
       "0                                                NaN         Toy Story  False   \n",
       "1          Roll the dice and unleash the excitement!           Jumanji  False   \n",
       "2  Still Yelling. Still Fighting. Still Ready for...  Grumpier Old Men  False   \n",
       "\n",
       "  vote_average vote_count  \n",
       "0          7.7     5415.0  \n",
       "1          6.9     2413.0  \n",
       "2          6.5       92.0  \n",
       "\n",
       "[3 rows x 24 columns]"
      ]
     },
     "execution_count": 3,
     "metadata": {},
     "output_type": "execute_result"
    }
   ],
   "source": [
    "df = pd.read_csv(os.path.join(DATA_PATH, \"CSV\", \"movies_metadata.csv\"), low_memory=False)\n",
    "df.head(3)"
   ]
  },
  {
   "cell_type": "code",
   "execution_count": 4,
   "id": "1cfeb247-5b0e-457f-89af-8499f4812604",
   "metadata": {},
   "outputs": [
    {
     "name": "stdout",
     "output_type": "stream",
     "text": [
      "<class 'pandas.core.frame.DataFrame'>\n",
      "RangeIndex: 45466 entries, 0 to 45465\n",
      "Data columns (total 24 columns):\n",
      " #   Column                 Non-Null Count  Dtype  \n",
      "---  ------                 --------------  -----  \n",
      " 0   adult                  45466 non-null  object \n",
      " 1   belongs_to_collection  4494 non-null   object \n",
      " 2   budget                 45466 non-null  object \n",
      " 3   genres                 45466 non-null  object \n",
      " 4   homepage               7782 non-null   object \n",
      " 5   id                     45466 non-null  object \n",
      " 6   imdb_id                45449 non-null  object \n",
      " 7   original_language      45455 non-null  object \n",
      " 8   original_title         45466 non-null  object \n",
      " 9   overview               44512 non-null  object \n",
      " 10  popularity             45461 non-null  object \n",
      " 11  poster_path            45080 non-null  object \n",
      " 12  production_companies   45463 non-null  object \n",
      " 13  production_countries   45463 non-null  object \n",
      " 14  release_date           45379 non-null  object \n",
      " 15  revenue                45460 non-null  float64\n",
      " 16  runtime                45203 non-null  float64\n",
      " 17  spoken_languages       45460 non-null  object \n",
      " 18  status                 45379 non-null  object \n",
      " 19  tagline                20412 non-null  object \n",
      " 20  title                  45460 non-null  object \n",
      " 21  video                  45460 non-null  object \n",
      " 22  vote_average           45460 non-null  float64\n",
      " 23  vote_count             45460 non-null  float64\n",
      "dtypes: float64(4), object(20)\n",
      "memory usage: 8.3+ MB\n"
     ]
    }
   ],
   "source": [
    "df.info()"
   ]
  },
  {
   "cell_type": "code",
   "execution_count": 5,
   "id": "cf9aee30-954f-4199-878a-e668482764ce",
   "metadata": {},
   "outputs": [
    {
     "data": {
      "text/plain": [
       "adult                        0\n",
       "belongs_to_collection    40972\n",
       "budget                       0\n",
       "genres                       0\n",
       "homepage                 37684\n",
       "id                           0\n",
       "imdb_id                     17\n",
       "original_language           11\n",
       "original_title               0\n",
       "overview                   954\n",
       "popularity                   5\n",
       "poster_path                386\n",
       "production_companies         3\n",
       "production_countries         3\n",
       "release_date                87\n",
       "revenue                      6\n",
       "runtime                    263\n",
       "spoken_languages             6\n",
       "status                      87\n",
       "tagline                  25054\n",
       "title                        6\n",
       "video                        6\n",
       "vote_average                 6\n",
       "vote_count                   6\n",
       "dtype: int64"
      ]
     },
     "execution_count": 5,
     "metadata": {},
     "output_type": "execute_result"
    }
   ],
   "source": [
    "df.isnull().sum()"
   ]
  },
  {
   "cell_type": "code",
   "execution_count": 6,
   "id": "fdbbefae-52c3-4cec-be0a-ebe872ed0084",
   "metadata": {},
   "outputs": [
    {
     "data": {
      "text/plain": [
       "0    [{'id': 16, 'name': 'Animation'}, {'id': 35, '...\n",
       "1    [{'id': 12, 'name': 'Adventure'}, {'id': 14, '...\n",
       "2    [{'id': 10749, 'name': 'Romance'}, {'id': 35, ...\n",
       "3    [{'id': 35, 'name': 'Comedy'}, {'id': 18, 'nam...\n",
       "4                       [{'id': 35, 'name': 'Comedy'}]\n",
       "Name: genres, dtype: object"
      ]
     },
     "execution_count": 6,
     "metadata": {},
     "output_type": "execute_result"
    }
   ],
   "source": [
    "df[\"genres\"][:5]"
   ]
  },
  {
   "cell_type": "markdown",
   "id": "1bd4273c-9163-4791-ab59-ddea62151536",
   "metadata": {},
   "source": [
    "Vemos que existen faltantes en varios campos, algunos de ellos no son de interés para el modelo (**homepage**, **belongs_to_collection**). También observamos que algunas de las entradas, como el género, están divididas en listas de diccionarios. Vamos a tener que formatear estas columnas para tener únicamente el género sin el id atribuido al mismo."
   ]
  },
  {
   "cell_type": "markdown",
   "id": "00fd0bf4-903a-4baf-91ba-00dd4422fb92",
   "metadata": {
    "jp-MarkdownHeadingCollapsed": true
   },
   "source": [
    "## Estudio de Características Individuales"
   ]
  },
  {
   "cell_type": "markdown",
   "id": "914dec1a-2472-4ff3-8b60-7cc5a9bfedc7",
   "metadata": {},
   "source": [
    "De momento vamos a eliminar características que, a priori, no nos sean de utilidad. En la funcionalidad se ha propuesto tener el id de IMDB para realizar consultas a su API en las funcionalidades, pero vamos a eliminar esa característica en este _notebook_ porque en otros ficheros del set de datos figura la columna id. El csv resultante de este análisis será el que se utilice para la creación de los sistemas de recomendación."
   ]
  },
  {
   "cell_type": "code",
   "execution_count": 8,
   "id": "1bccf932-b433-4baf-a10d-cb9ae694fca5",
   "metadata": {},
   "outputs": [
    {
     "ename": "KeyError",
     "evalue": "\"['imdb_id'] not found in axis\"",
     "output_type": "error",
     "traceback": [
      "\u001b[0;31m---------------------------------------------------------------------------\u001b[0m",
      "\u001b[0;31mKeyError\u001b[0m                                  Traceback (most recent call last)",
      "Cell \u001b[0;32mIn[8], line 1\u001b[0m\n\u001b[0;32m----> 1\u001b[0m df \u001b[38;5;241m=\u001b[39m df\u001b[38;5;241m.\u001b[39mdrop(columns\u001b[38;5;241m=\u001b[39m[\u001b[38;5;124m\"\u001b[39m\u001b[38;5;124mimdb_id\u001b[39m\u001b[38;5;124m\"\u001b[39m])\n",
      "File \u001b[0;32m/opt/anaconda3/lib/python3.11/site-packages/pandas/core/frame.py:5581\u001b[0m, in \u001b[0;36mDataFrame.drop\u001b[0;34m(self, labels, axis, index, columns, level, inplace, errors)\u001b[0m\n\u001b[1;32m   5433\u001b[0m \u001b[38;5;28;01mdef\u001b[39;00m \u001b[38;5;21mdrop\u001b[39m(\n\u001b[1;32m   5434\u001b[0m     \u001b[38;5;28mself\u001b[39m,\n\u001b[1;32m   5435\u001b[0m     labels: IndexLabel \u001b[38;5;241m|\u001b[39m \u001b[38;5;28;01mNone\u001b[39;00m \u001b[38;5;241m=\u001b[39m \u001b[38;5;28;01mNone\u001b[39;00m,\n\u001b[0;32m   (...)\u001b[0m\n\u001b[1;32m   5442\u001b[0m     errors: IgnoreRaise \u001b[38;5;241m=\u001b[39m \u001b[38;5;124m\"\u001b[39m\u001b[38;5;124mraise\u001b[39m\u001b[38;5;124m\"\u001b[39m,\n\u001b[1;32m   5443\u001b[0m ) \u001b[38;5;241m-\u001b[39m\u001b[38;5;241m>\u001b[39m DataFrame \u001b[38;5;241m|\u001b[39m \u001b[38;5;28;01mNone\u001b[39;00m:\n\u001b[1;32m   5444\u001b[0m \u001b[38;5;250m    \u001b[39m\u001b[38;5;124;03m\"\"\"\u001b[39;00m\n\u001b[1;32m   5445\u001b[0m \u001b[38;5;124;03m    Drop specified labels from rows or columns.\u001b[39;00m\n\u001b[1;32m   5446\u001b[0m \n\u001b[0;32m   (...)\u001b[0m\n\u001b[1;32m   5579\u001b[0m \u001b[38;5;124;03m            weight  1.0     0.8\u001b[39;00m\n\u001b[1;32m   5580\u001b[0m \u001b[38;5;124;03m    \"\"\"\u001b[39;00m\n\u001b[0;32m-> 5581\u001b[0m     \u001b[38;5;28;01mreturn\u001b[39;00m \u001b[38;5;28msuper\u001b[39m()\u001b[38;5;241m.\u001b[39mdrop(\n\u001b[1;32m   5582\u001b[0m         labels\u001b[38;5;241m=\u001b[39mlabels,\n\u001b[1;32m   5583\u001b[0m         axis\u001b[38;5;241m=\u001b[39maxis,\n\u001b[1;32m   5584\u001b[0m         index\u001b[38;5;241m=\u001b[39mindex,\n\u001b[1;32m   5585\u001b[0m         columns\u001b[38;5;241m=\u001b[39mcolumns,\n\u001b[1;32m   5586\u001b[0m         level\u001b[38;5;241m=\u001b[39mlevel,\n\u001b[1;32m   5587\u001b[0m         inplace\u001b[38;5;241m=\u001b[39minplace,\n\u001b[1;32m   5588\u001b[0m         errors\u001b[38;5;241m=\u001b[39merrors,\n\u001b[1;32m   5589\u001b[0m     )\n",
      "File \u001b[0;32m/opt/anaconda3/lib/python3.11/site-packages/pandas/core/generic.py:4788\u001b[0m, in \u001b[0;36mNDFrame.drop\u001b[0;34m(self, labels, axis, index, columns, level, inplace, errors)\u001b[0m\n\u001b[1;32m   4786\u001b[0m \u001b[38;5;28;01mfor\u001b[39;00m axis, labels \u001b[38;5;129;01min\u001b[39;00m axes\u001b[38;5;241m.\u001b[39mitems():\n\u001b[1;32m   4787\u001b[0m     \u001b[38;5;28;01mif\u001b[39;00m labels \u001b[38;5;129;01mis\u001b[39;00m \u001b[38;5;129;01mnot\u001b[39;00m \u001b[38;5;28;01mNone\u001b[39;00m:\n\u001b[0;32m-> 4788\u001b[0m         obj \u001b[38;5;241m=\u001b[39m obj\u001b[38;5;241m.\u001b[39m_drop_axis(labels, axis, level\u001b[38;5;241m=\u001b[39mlevel, errors\u001b[38;5;241m=\u001b[39merrors)\n\u001b[1;32m   4790\u001b[0m \u001b[38;5;28;01mif\u001b[39;00m inplace:\n\u001b[1;32m   4791\u001b[0m     \u001b[38;5;28mself\u001b[39m\u001b[38;5;241m.\u001b[39m_update_inplace(obj)\n",
      "File \u001b[0;32m/opt/anaconda3/lib/python3.11/site-packages/pandas/core/generic.py:4830\u001b[0m, in \u001b[0;36mNDFrame._drop_axis\u001b[0;34m(self, labels, axis, level, errors, only_slice)\u001b[0m\n\u001b[1;32m   4828\u001b[0m         new_axis \u001b[38;5;241m=\u001b[39m axis\u001b[38;5;241m.\u001b[39mdrop(labels, level\u001b[38;5;241m=\u001b[39mlevel, errors\u001b[38;5;241m=\u001b[39merrors)\n\u001b[1;32m   4829\u001b[0m     \u001b[38;5;28;01melse\u001b[39;00m:\n\u001b[0;32m-> 4830\u001b[0m         new_axis \u001b[38;5;241m=\u001b[39m axis\u001b[38;5;241m.\u001b[39mdrop(labels, errors\u001b[38;5;241m=\u001b[39merrors)\n\u001b[1;32m   4831\u001b[0m     indexer \u001b[38;5;241m=\u001b[39m axis\u001b[38;5;241m.\u001b[39mget_indexer(new_axis)\n\u001b[1;32m   4833\u001b[0m \u001b[38;5;66;03m# Case for non-unique axis\u001b[39;00m\n\u001b[1;32m   4834\u001b[0m \u001b[38;5;28;01melse\u001b[39;00m:\n",
      "File \u001b[0;32m/opt/anaconda3/lib/python3.11/site-packages/pandas/core/indexes/base.py:7070\u001b[0m, in \u001b[0;36mIndex.drop\u001b[0;34m(self, labels, errors)\u001b[0m\n\u001b[1;32m   7068\u001b[0m \u001b[38;5;28;01mif\u001b[39;00m mask\u001b[38;5;241m.\u001b[39many():\n\u001b[1;32m   7069\u001b[0m     \u001b[38;5;28;01mif\u001b[39;00m errors \u001b[38;5;241m!=\u001b[39m \u001b[38;5;124m\"\u001b[39m\u001b[38;5;124mignore\u001b[39m\u001b[38;5;124m\"\u001b[39m:\n\u001b[0;32m-> 7070\u001b[0m         \u001b[38;5;28;01mraise\u001b[39;00m \u001b[38;5;167;01mKeyError\u001b[39;00m(\u001b[38;5;124mf\u001b[39m\u001b[38;5;124m\"\u001b[39m\u001b[38;5;132;01m{\u001b[39;00mlabels[mask]\u001b[38;5;241m.\u001b[39mtolist()\u001b[38;5;132;01m}\u001b[39;00m\u001b[38;5;124m not found in axis\u001b[39m\u001b[38;5;124m\"\u001b[39m)\n\u001b[1;32m   7071\u001b[0m     indexer \u001b[38;5;241m=\u001b[39m indexer[\u001b[38;5;241m~\u001b[39mmask]\n\u001b[1;32m   7072\u001b[0m \u001b[38;5;28;01mreturn\u001b[39;00m \u001b[38;5;28mself\u001b[39m\u001b[38;5;241m.\u001b[39mdelete(indexer)\n",
      "\u001b[0;31mKeyError\u001b[0m: \"['imdb_id'] not found in axis\""
     ]
    }
   ],
   "source": [
    "df = df.drop(columns=[\"imdb_id\"])"
   ]
  },
  {
   "cell_type": "markdown",
   "id": "24bbcc6d-925a-4b07-aa7a-d2a83ed0fdd9",
   "metadata": {},
   "source": [
    "Vemos que existen dos características relacionadas con el título: una de ellas es el título original de la película, en el idioma en el que se realizó. Como tenemos una característica de idioma original, hay redundancia, veamos aquellas entradas en las que el título original difiera del título otorgado a la película."
   ]
  },
  {
   "cell_type": "code",
   "execution_count": null,
   "id": "61e328fa-baeb-4ffc-a81f-e5ca9abfffd8",
   "metadata": {},
   "outputs": [],
   "source": [
    "df[df[\"original_title\"] != df[\"title\"]].loc[:,[\"original_title\", \"title\"]].head()"
   ]
  },
  {
   "cell_type": "markdown",
   "id": "ab948501-853d-40d2-b047-1d3587206464",
   "metadata": {},
   "source": [
    "Procedemos a eliminar la categoría de título original."
   ]
  },
  {
   "cell_type": "code",
   "execution_count": 33,
   "id": "884aaf90-ab12-4fcd-8abf-48f4b6492d2d",
   "metadata": {},
   "outputs": [],
   "source": [
    "df = df.drop(columns=[\"original_title\"])"
   ]
  },
  {
   "cell_type": "markdown",
   "id": "50960a13-b851-4271-aa13-79c07aeaa1e1",
   "metadata": {},
   "source": [
    "Para realizar recomendaciones no vamos a utilizat el presupuesto o el beneficio. Son datos de interés para un análisis de las películas a nivel de gastos y beneficios. No obstante, las eliminamos porque carecen de información suficiente para darnos. Además, la mayoría de las películas carecen de estos datos en nuestro dataset."
   ]
  },
  {
   "cell_type": "code",
   "execution_count": 34,
   "id": "fd69769c-e0c6-4acd-90a0-bfa1a580e114",
   "metadata": {},
   "outputs": [],
   "source": [
    "df = df.drop(columns=[\"revenue\", \"budget\"])"
   ]
  },
  {
   "cell_type": "markdown",
   "id": "d4af9d3b-697c-4c3a-b8cc-a4c0bc9091c5",
   "metadata": {},
   "source": [
    "La columna de duración (_runtime_) es de tipo float, vamos a ver cuál es el rango de duración de las películas que tenemos:"
   ]
  },
  {
   "cell_type": "code",
   "execution_count": 35,
   "id": "db7e7aad-40cb-48ee-be71-d4cb799081e0",
   "metadata": {},
   "outputs": [
    {
     "data": {
      "text/plain": [
       "(0.0, 1256.0)"
      ]
     },
     "execution_count": 35,
     "metadata": {},
     "output_type": "execute_result"
    }
   ],
   "source": [
    "df[\"runtime\"].min(), df[\"runtime\"].max()"
   ]
  },
  {
   "cell_type": "code",
   "execution_count": 36,
   "id": "71518bee-172b-47b1-b5c7-99cb2e427688",
   "metadata": {},
   "outputs": [
    {
     "data": {
      "text/plain": [
       "((1558, 20), (263, 20))"
      ]
     },
     "execution_count": 36,
     "metadata": {},
     "output_type": "execute_result"
    }
   ],
   "source": [
    "df[df[\"runtime\"] == 0].shape, df[df[\"runtime\"].isnull()].shape"
   ]
  },
  {
   "cell_type": "code",
   "execution_count": 37,
   "id": "c59456ea-5648-4eb0-900c-a389aa354416",
   "metadata": {},
   "outputs": [
    {
     "data": {
      "text/plain": [
       "0.040051906919456294"
      ]
     },
     "execution_count": 37,
     "metadata": {},
     "output_type": "execute_result"
    }
   ],
   "source": [
    "(len(df[df[\"runtime\"] == 0]) + len(df[df[\"runtime\"].isnull()])) / len(df)"
   ]
  },
  {
   "cell_type": "markdown",
   "id": "f5a8492e-ad0b-41c2-a7de-bb055956229b",
   "metadata": {},
   "source": [
    "El 4% de las entradas carecen de tiempo de duración, por lo que eliminarlas no supondría un problema. De momento mantendremos la columna en su estado actual y más adelante vemos si rellenamos los faltantes con algún valor o eliminamos las entradas que carecen de duración. Vamos ahora con la característica de adulto:"
   ]
  },
  {
   "cell_type": "code",
   "execution_count": 38,
   "id": "423ac81a-0113-40a0-9203-fb7fda5e2040",
   "metadata": {},
   "outputs": [
    {
     "data": {
      "text/html": [
       "<div>\n",
       "<style scoped>\n",
       "    .dataframe tbody tr th:only-of-type {\n",
       "        vertical-align: middle;\n",
       "    }\n",
       "\n",
       "    .dataframe tbody tr th {\n",
       "        vertical-align: top;\n",
       "    }\n",
       "\n",
       "    .dataframe thead th {\n",
       "        text-align: right;\n",
       "    }\n",
       "</style>\n",
       "<table border=\"1\" class=\"dataframe\">\n",
       "  <thead>\n",
       "    <tr style=\"text-align: right;\">\n",
       "      <th></th>\n",
       "      <th>adult</th>\n",
       "      <th>belongs_to_collection</th>\n",
       "      <th>genres</th>\n",
       "      <th>homepage</th>\n",
       "      <th>id</th>\n",
       "      <th>original_language</th>\n",
       "      <th>overview</th>\n",
       "      <th>popularity</th>\n",
       "      <th>poster_path</th>\n",
       "      <th>production_companies</th>\n",
       "      <th>production_countries</th>\n",
       "      <th>release_date</th>\n",
       "      <th>runtime</th>\n",
       "      <th>spoken_languages</th>\n",
       "      <th>status</th>\n",
       "      <th>tagline</th>\n",
       "      <th>title</th>\n",
       "      <th>video</th>\n",
       "      <th>vote_average</th>\n",
       "      <th>vote_count</th>\n",
       "    </tr>\n",
       "  </thead>\n",
       "  <tbody>\n",
       "    <tr>\n",
       "      <th>0</th>\n",
       "      <td>False</td>\n",
       "      <td>{'id': 10194, 'name': 'Toy Story Collection', ...</td>\n",
       "      <td>[{'id': 16, 'name': 'Animation'}, {'id': 35, '...</td>\n",
       "      <td>http://toystory.disney.com/toy-story</td>\n",
       "      <td>862</td>\n",
       "      <td>en</td>\n",
       "      <td>Led by Woody, Andy's toys live happily in his ...</td>\n",
       "      <td>21.946943</td>\n",
       "      <td>/rhIRbceoE9lR4veEXuwCC2wARtG.jpg</td>\n",
       "      <td>[{'name': 'Pixar Animation Studios', 'id': 3}]</td>\n",
       "      <td>[{'iso_3166_1': 'US', 'name': 'United States o...</td>\n",
       "      <td>1995-10-30</td>\n",
       "      <td>81.0</td>\n",
       "      <td>[{'iso_639_1': 'en', 'name': 'English'}]</td>\n",
       "      <td>Released</td>\n",
       "      <td>NaN</td>\n",
       "      <td>Toy Story</td>\n",
       "      <td>False</td>\n",
       "      <td>7.7</td>\n",
       "      <td>5415.0</td>\n",
       "    </tr>\n",
       "    <tr>\n",
       "      <th>1</th>\n",
       "      <td>False</td>\n",
       "      <td>NaN</td>\n",
       "      <td>[{'id': 12, 'name': 'Adventure'}, {'id': 14, '...</td>\n",
       "      <td>NaN</td>\n",
       "      <td>8844</td>\n",
       "      <td>en</td>\n",
       "      <td>When siblings Judy and Peter discover an encha...</td>\n",
       "      <td>17.015539</td>\n",
       "      <td>/vzmL6fP7aPKNKPRTFnZmiUfciyV.jpg</td>\n",
       "      <td>[{'name': 'TriStar Pictures', 'id': 559}, {'na...</td>\n",
       "      <td>[{'iso_3166_1': 'US', 'name': 'United States o...</td>\n",
       "      <td>1995-12-15</td>\n",
       "      <td>104.0</td>\n",
       "      <td>[{'iso_639_1': 'en', 'name': 'English'}, {'iso...</td>\n",
       "      <td>Released</td>\n",
       "      <td>Roll the dice and unleash the excitement!</td>\n",
       "      <td>Jumanji</td>\n",
       "      <td>False</td>\n",
       "      <td>6.9</td>\n",
       "      <td>2413.0</td>\n",
       "    </tr>\n",
       "    <tr>\n",
       "      <th>2</th>\n",
       "      <td>False</td>\n",
       "      <td>{'id': 119050, 'name': 'Grumpy Old Men Collect...</td>\n",
       "      <td>[{'id': 10749, 'name': 'Romance'}, {'id': 35, ...</td>\n",
       "      <td>NaN</td>\n",
       "      <td>15602</td>\n",
       "      <td>en</td>\n",
       "      <td>A family wedding reignites the ancient feud be...</td>\n",
       "      <td>11.7129</td>\n",
       "      <td>/6ksm1sjKMFLbO7UY2i6G1ju9SML.jpg</td>\n",
       "      <td>[{'name': 'Warner Bros.', 'id': 6194}, {'name'...</td>\n",
       "      <td>[{'iso_3166_1': 'US', 'name': 'United States o...</td>\n",
       "      <td>1995-12-22</td>\n",
       "      <td>101.0</td>\n",
       "      <td>[{'iso_639_1': 'en', 'name': 'English'}]</td>\n",
       "      <td>Released</td>\n",
       "      <td>Still Yelling. Still Fighting. Still Ready for...</td>\n",
       "      <td>Grumpier Old Men</td>\n",
       "      <td>False</td>\n",
       "      <td>6.5</td>\n",
       "      <td>92.0</td>\n",
       "    </tr>\n",
       "    <tr>\n",
       "      <th>3</th>\n",
       "      <td>False</td>\n",
       "      <td>NaN</td>\n",
       "      <td>[{'id': 35, 'name': 'Comedy'}, {'id': 18, 'nam...</td>\n",
       "      <td>NaN</td>\n",
       "      <td>31357</td>\n",
       "      <td>en</td>\n",
       "      <td>Cheated on, mistreated and stepped on, the wom...</td>\n",
       "      <td>3.859495</td>\n",
       "      <td>/16XOMpEaLWkrcPqSQqhTmeJuqQl.jpg</td>\n",
       "      <td>[{'name': 'Twentieth Century Fox Film Corporat...</td>\n",
       "      <td>[{'iso_3166_1': 'US', 'name': 'United States o...</td>\n",
       "      <td>1995-12-22</td>\n",
       "      <td>127.0</td>\n",
       "      <td>[{'iso_639_1': 'en', 'name': 'English'}]</td>\n",
       "      <td>Released</td>\n",
       "      <td>Friends are the people who let you be yourself...</td>\n",
       "      <td>Waiting to Exhale</td>\n",
       "      <td>False</td>\n",
       "      <td>6.1</td>\n",
       "      <td>34.0</td>\n",
       "    </tr>\n",
       "    <tr>\n",
       "      <th>4</th>\n",
       "      <td>False</td>\n",
       "      <td>{'id': 96871, 'name': 'Father of the Bride Col...</td>\n",
       "      <td>[{'id': 35, 'name': 'Comedy'}]</td>\n",
       "      <td>NaN</td>\n",
       "      <td>11862</td>\n",
       "      <td>en</td>\n",
       "      <td>Just when George Banks has recovered from his ...</td>\n",
       "      <td>8.387519</td>\n",
       "      <td>/e64sOI48hQXyru7naBFyssKFxVd.jpg</td>\n",
       "      <td>[{'name': 'Sandollar Productions', 'id': 5842}...</td>\n",
       "      <td>[{'iso_3166_1': 'US', 'name': 'United States o...</td>\n",
       "      <td>1995-02-10</td>\n",
       "      <td>106.0</td>\n",
       "      <td>[{'iso_639_1': 'en', 'name': 'English'}]</td>\n",
       "      <td>Released</td>\n",
       "      <td>Just When His World Is Back To Normal... He's ...</td>\n",
       "      <td>Father of the Bride Part II</td>\n",
       "      <td>False</td>\n",
       "      <td>5.7</td>\n",
       "      <td>173.0</td>\n",
       "    </tr>\n",
       "    <tr>\n",
       "      <th>...</th>\n",
       "      <td>...</td>\n",
       "      <td>...</td>\n",
       "      <td>...</td>\n",
       "      <td>...</td>\n",
       "      <td>...</td>\n",
       "      <td>...</td>\n",
       "      <td>...</td>\n",
       "      <td>...</td>\n",
       "      <td>...</td>\n",
       "      <td>...</td>\n",
       "      <td>...</td>\n",
       "      <td>...</td>\n",
       "      <td>...</td>\n",
       "      <td>...</td>\n",
       "      <td>...</td>\n",
       "      <td>...</td>\n",
       "      <td>...</td>\n",
       "      <td>...</td>\n",
       "      <td>...</td>\n",
       "      <td>...</td>\n",
       "    </tr>\n",
       "    <tr>\n",
       "      <th>45461</th>\n",
       "      <td>False</td>\n",
       "      <td>NaN</td>\n",
       "      <td>[{'id': 18, 'name': 'Drama'}, {'id': 10751, 'n...</td>\n",
       "      <td>http://www.imdb.com/title/tt6209470/</td>\n",
       "      <td>439050</td>\n",
       "      <td>fa</td>\n",
       "      <td>Rising and falling between a man and woman.</td>\n",
       "      <td>0.072051</td>\n",
       "      <td>/jldsYflnId4tTWPx8es3uzsB1I8.jpg</td>\n",
       "      <td>[]</td>\n",
       "      <td>[{'iso_3166_1': 'IR', 'name': 'Iran'}]</td>\n",
       "      <td>NaN</td>\n",
       "      <td>90.0</td>\n",
       "      <td>[{'iso_639_1': 'fa', 'name': 'فارسی'}]</td>\n",
       "      <td>Released</td>\n",
       "      <td>Rising and falling between a man and woman</td>\n",
       "      <td>Subdue</td>\n",
       "      <td>False</td>\n",
       "      <td>4.0</td>\n",
       "      <td>1.0</td>\n",
       "    </tr>\n",
       "    <tr>\n",
       "      <th>45462</th>\n",
       "      <td>False</td>\n",
       "      <td>NaN</td>\n",
       "      <td>[{'id': 18, 'name': 'Drama'}]</td>\n",
       "      <td>NaN</td>\n",
       "      <td>111109</td>\n",
       "      <td>tl</td>\n",
       "      <td>An artist struggles to finish his work while a...</td>\n",
       "      <td>0.178241</td>\n",
       "      <td>/xZkmxsNmYXJbKVsTRLLx3pqGHx7.jpg</td>\n",
       "      <td>[{'name': 'Sine Olivia', 'id': 19653}]</td>\n",
       "      <td>[{'iso_3166_1': 'PH', 'name': 'Philippines'}]</td>\n",
       "      <td>2011-11-17</td>\n",
       "      <td>360.0</td>\n",
       "      <td>[{'iso_639_1': 'tl', 'name': ''}]</td>\n",
       "      <td>Released</td>\n",
       "      <td>NaN</td>\n",
       "      <td>Century of Birthing</td>\n",
       "      <td>False</td>\n",
       "      <td>9.0</td>\n",
       "      <td>3.0</td>\n",
       "    </tr>\n",
       "    <tr>\n",
       "      <th>45463</th>\n",
       "      <td>False</td>\n",
       "      <td>NaN</td>\n",
       "      <td>[{'id': 28, 'name': 'Action'}, {'id': 18, 'nam...</td>\n",
       "      <td>NaN</td>\n",
       "      <td>67758</td>\n",
       "      <td>en</td>\n",
       "      <td>When one of her hits goes wrong, a professiona...</td>\n",
       "      <td>0.903007</td>\n",
       "      <td>/d5bX92nDsISNhu3ZT69uHwmfCGw.jpg</td>\n",
       "      <td>[{'name': 'American World Pictures', 'id': 6165}]</td>\n",
       "      <td>[{'iso_3166_1': 'US', 'name': 'United States o...</td>\n",
       "      <td>2003-08-01</td>\n",
       "      <td>90.0</td>\n",
       "      <td>[{'iso_639_1': 'en', 'name': 'English'}]</td>\n",
       "      <td>Released</td>\n",
       "      <td>A deadly game of wits.</td>\n",
       "      <td>Betrayal</td>\n",
       "      <td>False</td>\n",
       "      <td>3.8</td>\n",
       "      <td>6.0</td>\n",
       "    </tr>\n",
       "    <tr>\n",
       "      <th>45464</th>\n",
       "      <td>False</td>\n",
       "      <td>NaN</td>\n",
       "      <td>[]</td>\n",
       "      <td>NaN</td>\n",
       "      <td>227506</td>\n",
       "      <td>en</td>\n",
       "      <td>In a small town live two brothers, one a minis...</td>\n",
       "      <td>0.003503</td>\n",
       "      <td>/aorBPO7ak8e8iJKT5OcqYxU3jlK.jpg</td>\n",
       "      <td>[{'name': 'Yermoliev', 'id': 88753}]</td>\n",
       "      <td>[{'iso_3166_1': 'RU', 'name': 'Russia'}]</td>\n",
       "      <td>1917-10-21</td>\n",
       "      <td>87.0</td>\n",
       "      <td>[]</td>\n",
       "      <td>Released</td>\n",
       "      <td>NaN</td>\n",
       "      <td>Satan Triumphant</td>\n",
       "      <td>False</td>\n",
       "      <td>0.0</td>\n",
       "      <td>0.0</td>\n",
       "    </tr>\n",
       "    <tr>\n",
       "      <th>45465</th>\n",
       "      <td>False</td>\n",
       "      <td>NaN</td>\n",
       "      <td>[]</td>\n",
       "      <td>NaN</td>\n",
       "      <td>461257</td>\n",
       "      <td>en</td>\n",
       "      <td>50 years after decriminalisation of homosexual...</td>\n",
       "      <td>0.163015</td>\n",
       "      <td>/s5UkZt6NTsrS7ZF0Rh8nzupRlIU.jpg</td>\n",
       "      <td>[]</td>\n",
       "      <td>[{'iso_3166_1': 'GB', 'name': 'United Kingdom'}]</td>\n",
       "      <td>2017-06-09</td>\n",
       "      <td>75.0</td>\n",
       "      <td>[{'iso_639_1': 'en', 'name': 'English'}]</td>\n",
       "      <td>Released</td>\n",
       "      <td>NaN</td>\n",
       "      <td>Queerama</td>\n",
       "      <td>False</td>\n",
       "      <td>0.0</td>\n",
       "      <td>0.0</td>\n",
       "    </tr>\n",
       "  </tbody>\n",
       "</table>\n",
       "<p>45454 rows × 20 columns</p>\n",
       "</div>"
      ],
      "text/plain": [
       "       adult                              belongs_to_collection  \\\n",
       "0      False  {'id': 10194, 'name': 'Toy Story Collection', ...   \n",
       "1      False                                                NaN   \n",
       "2      False  {'id': 119050, 'name': 'Grumpy Old Men Collect...   \n",
       "3      False                                                NaN   \n",
       "4      False  {'id': 96871, 'name': 'Father of the Bride Col...   \n",
       "...      ...                                                ...   \n",
       "45461  False                                                NaN   \n",
       "45462  False                                                NaN   \n",
       "45463  False                                                NaN   \n",
       "45464  False                                                NaN   \n",
       "45465  False                                                NaN   \n",
       "\n",
       "                                                  genres  \\\n",
       "0      [{'id': 16, 'name': 'Animation'}, {'id': 35, '...   \n",
       "1      [{'id': 12, 'name': 'Adventure'}, {'id': 14, '...   \n",
       "2      [{'id': 10749, 'name': 'Romance'}, {'id': 35, ...   \n",
       "3      [{'id': 35, 'name': 'Comedy'}, {'id': 18, 'nam...   \n",
       "4                         [{'id': 35, 'name': 'Comedy'}]   \n",
       "...                                                  ...   \n",
       "45461  [{'id': 18, 'name': 'Drama'}, {'id': 10751, 'n...   \n",
       "45462                      [{'id': 18, 'name': 'Drama'}]   \n",
       "45463  [{'id': 28, 'name': 'Action'}, {'id': 18, 'nam...   \n",
       "45464                                                 []   \n",
       "45465                                                 []   \n",
       "\n",
       "                                   homepage      id original_language  \\\n",
       "0      http://toystory.disney.com/toy-story     862                en   \n",
       "1                                       NaN    8844                en   \n",
       "2                                       NaN   15602                en   \n",
       "3                                       NaN   31357                en   \n",
       "4                                       NaN   11862                en   \n",
       "...                                     ...     ...               ...   \n",
       "45461  http://www.imdb.com/title/tt6209470/  439050                fa   \n",
       "45462                                   NaN  111109                tl   \n",
       "45463                                   NaN   67758                en   \n",
       "45464                                   NaN  227506                en   \n",
       "45465                                   NaN  461257                en   \n",
       "\n",
       "                                                overview popularity  \\\n",
       "0      Led by Woody, Andy's toys live happily in his ...  21.946943   \n",
       "1      When siblings Judy and Peter discover an encha...  17.015539   \n",
       "2      A family wedding reignites the ancient feud be...    11.7129   \n",
       "3      Cheated on, mistreated and stepped on, the wom...   3.859495   \n",
       "4      Just when George Banks has recovered from his ...   8.387519   \n",
       "...                                                  ...        ...   \n",
       "45461        Rising and falling between a man and woman.   0.072051   \n",
       "45462  An artist struggles to finish his work while a...   0.178241   \n",
       "45463  When one of her hits goes wrong, a professiona...   0.903007   \n",
       "45464  In a small town live two brothers, one a minis...   0.003503   \n",
       "45465  50 years after decriminalisation of homosexual...   0.163015   \n",
       "\n",
       "                            poster_path  \\\n",
       "0      /rhIRbceoE9lR4veEXuwCC2wARtG.jpg   \n",
       "1      /vzmL6fP7aPKNKPRTFnZmiUfciyV.jpg   \n",
       "2      /6ksm1sjKMFLbO7UY2i6G1ju9SML.jpg   \n",
       "3      /16XOMpEaLWkrcPqSQqhTmeJuqQl.jpg   \n",
       "4      /e64sOI48hQXyru7naBFyssKFxVd.jpg   \n",
       "...                                 ...   \n",
       "45461  /jldsYflnId4tTWPx8es3uzsB1I8.jpg   \n",
       "45462  /xZkmxsNmYXJbKVsTRLLx3pqGHx7.jpg   \n",
       "45463  /d5bX92nDsISNhu3ZT69uHwmfCGw.jpg   \n",
       "45464  /aorBPO7ak8e8iJKT5OcqYxU3jlK.jpg   \n",
       "45465  /s5UkZt6NTsrS7ZF0Rh8nzupRlIU.jpg   \n",
       "\n",
       "                                    production_companies  \\\n",
       "0         [{'name': 'Pixar Animation Studios', 'id': 3}]   \n",
       "1      [{'name': 'TriStar Pictures', 'id': 559}, {'na...   \n",
       "2      [{'name': 'Warner Bros.', 'id': 6194}, {'name'...   \n",
       "3      [{'name': 'Twentieth Century Fox Film Corporat...   \n",
       "4      [{'name': 'Sandollar Productions', 'id': 5842}...   \n",
       "...                                                  ...   \n",
       "45461                                                 []   \n",
       "45462             [{'name': 'Sine Olivia', 'id': 19653}]   \n",
       "45463  [{'name': 'American World Pictures', 'id': 6165}]   \n",
       "45464               [{'name': 'Yermoliev', 'id': 88753}]   \n",
       "45465                                                 []   \n",
       "\n",
       "                                    production_countries release_date  \\\n",
       "0      [{'iso_3166_1': 'US', 'name': 'United States o...   1995-10-30   \n",
       "1      [{'iso_3166_1': 'US', 'name': 'United States o...   1995-12-15   \n",
       "2      [{'iso_3166_1': 'US', 'name': 'United States o...   1995-12-22   \n",
       "3      [{'iso_3166_1': 'US', 'name': 'United States o...   1995-12-22   \n",
       "4      [{'iso_3166_1': 'US', 'name': 'United States o...   1995-02-10   \n",
       "...                                                  ...          ...   \n",
       "45461             [{'iso_3166_1': 'IR', 'name': 'Iran'}]          NaN   \n",
       "45462      [{'iso_3166_1': 'PH', 'name': 'Philippines'}]   2011-11-17   \n",
       "45463  [{'iso_3166_1': 'US', 'name': 'United States o...   2003-08-01   \n",
       "45464           [{'iso_3166_1': 'RU', 'name': 'Russia'}]   1917-10-21   \n",
       "45465   [{'iso_3166_1': 'GB', 'name': 'United Kingdom'}]   2017-06-09   \n",
       "\n",
       "       runtime                                   spoken_languages    status  \\\n",
       "0         81.0           [{'iso_639_1': 'en', 'name': 'English'}]  Released   \n",
       "1        104.0  [{'iso_639_1': 'en', 'name': 'English'}, {'iso...  Released   \n",
       "2        101.0           [{'iso_639_1': 'en', 'name': 'English'}]  Released   \n",
       "3        127.0           [{'iso_639_1': 'en', 'name': 'English'}]  Released   \n",
       "4        106.0           [{'iso_639_1': 'en', 'name': 'English'}]  Released   \n",
       "...        ...                                                ...       ...   \n",
       "45461     90.0             [{'iso_639_1': 'fa', 'name': 'فارسی'}]  Released   \n",
       "45462    360.0                  [{'iso_639_1': 'tl', 'name': ''}]  Released   \n",
       "45463     90.0           [{'iso_639_1': 'en', 'name': 'English'}]  Released   \n",
       "45464     87.0                                                 []  Released   \n",
       "45465     75.0           [{'iso_639_1': 'en', 'name': 'English'}]  Released   \n",
       "\n",
       "                                                 tagline  \\\n",
       "0                                                    NaN   \n",
       "1              Roll the dice and unleash the excitement!   \n",
       "2      Still Yelling. Still Fighting. Still Ready for...   \n",
       "3      Friends are the people who let you be yourself...   \n",
       "4      Just When His World Is Back To Normal... He's ...   \n",
       "...                                                  ...   \n",
       "45461         Rising and falling between a man and woman   \n",
       "45462                                                NaN   \n",
       "45463                             A deadly game of wits.   \n",
       "45464                                                NaN   \n",
       "45465                                                NaN   \n",
       "\n",
       "                             title  video  vote_average  vote_count  \n",
       "0                        Toy Story  False           7.7      5415.0  \n",
       "1                          Jumanji  False           6.9      2413.0  \n",
       "2                 Grumpier Old Men  False           6.5        92.0  \n",
       "3                Waiting to Exhale  False           6.1        34.0  \n",
       "4      Father of the Bride Part II  False           5.7       173.0  \n",
       "...                            ...    ...           ...         ...  \n",
       "45461                       Subdue  False           4.0         1.0  \n",
       "45462          Century of Birthing  False           9.0         3.0  \n",
       "45463                     Betrayal  False           3.8         6.0  \n",
       "45464             Satan Triumphant  False           0.0         0.0  \n",
       "45465                     Queerama  False           0.0         0.0  \n",
       "\n",
       "[45454 rows x 20 columns]"
      ]
     },
     "execution_count": 38,
     "metadata": {},
     "output_type": "execute_result"
    }
   ],
   "source": [
    "df[\"adult\"].value_counts()\n",
    "df[df[\"adult\"] == \"False\"]"
   ]
  },
  {
   "cell_type": "markdown",
   "id": "3165727f-88d6-4b2d-915b-f157b0d7ec6f",
   "metadata": {},
   "source": [
    "La mayor parte de las películas no son para adultos, por lo que tenemos 2 opciones: eliminar todas aquellas en las que adultos no sea False y eliminar la columna, o eliminar la columna directamente. En nuestro caso particular vamos a eliminar todas aquellas entradas en las que adulto es distinto de False:"
   ]
  },
  {
   "cell_type": "code",
   "execution_count": 39,
   "id": "b2e888eb-753e-4c87-8036-6912409cd164",
   "metadata": {},
   "outputs": [],
   "source": [
    "df = df[df[\"adult\"] == \"False\"].drop(columns=[\"adult\"])"
   ]
  },
  {
   "cell_type": "code",
   "execution_count": 40,
   "id": "0877abf0-2181-4be0-8579-2ee34c51fe31",
   "metadata": {},
   "outputs": [
    {
     "data": {
      "text/plain": [
       "(45454, 19)"
      ]
     },
     "execution_count": 40,
     "metadata": {},
     "output_type": "execute_result"
    }
   ],
   "source": [
    "df.shape "
   ]
  },
  {
   "cell_type": "markdown",
   "id": "574f6ebb-b079-4c43-a115-e16a4a3dbcca",
   "metadata": {},
   "source": [
    "Ahora vamos a modificar la columna de fecha de lanzamiento (_release date_) para que sea de tipo datetime:"
   ]
  },
  {
   "cell_type": "code",
   "execution_count": 41,
   "id": "1f84a76c-e3bc-4707-b19f-657ccf5f66f1",
   "metadata": {},
   "outputs": [],
   "source": [
    "df[\"release_date\"] = pd.to_datetime(df[\"release_date\"], errors=\"coerce\")"
   ]
  },
  {
   "cell_type": "code",
   "execution_count": 42,
   "id": "5cd0de52-d3bd-4766-877b-032b832d3110",
   "metadata": {},
   "outputs": [
    {
     "data": {
      "text/plain": [
       "0   1995-10-30\n",
       "1   1995-12-15\n",
       "2   1995-12-22\n",
       "3   1995-12-22\n",
       "4   1995-02-10\n",
       "5   1995-12-15\n",
       "6   1995-12-15\n",
       "7   1995-12-22\n",
       "8   1995-12-22\n",
       "9   1995-11-16\n",
       "Name: release_date, dtype: datetime64[ns]"
      ]
     },
     "execution_count": 42,
     "metadata": {},
     "output_type": "execute_result"
    }
   ],
   "source": [
    "df[\"release_date\"][:10]"
   ]
  },
  {
   "cell_type": "markdown",
   "id": "617e377d-35f2-4f54-a377-e417936d8d95",
   "metadata": {},
   "source": [
    "En la categoría de género vemos que las entradas figuran como listas de diccionarios. Vamos a utilizar una evaluación literal para cambiarlo a una lista de géneros:"
   ]
  },
  {
   "cell_type": "code",
   "execution_count": 43,
   "id": "7a5f773d-a55b-46ec-b277-c1bd1abe9269",
   "metadata": {},
   "outputs": [],
   "source": [
    "from ast import literal_eval  # Utilizamos literal_eval para evaluar las cadenas de entradas del DataFrame como\n",
    "                              # como listas de diccionarios para formatearlo mejor\n",
    "\n",
    "eliminar_id_genre = lambda x: [genre[\"name\"] for genre in literal_eval(x)] if isinstance(literal_eval(x), list) else []\n",
    "df[\"genres\"] = df[\"genres\"].transform(func=eliminar_id_genre)"
   ]
  },
  {
   "cell_type": "markdown",
   "id": "dfdb4a2e-5e25-43c8-a97f-b059a13faa68",
   "metadata": {},
   "source": [
    "Vamos a comprobar cuántas entradas carecen de género:"
   ]
  },
  {
   "cell_type": "code",
   "execution_count": 44,
   "id": "15e9fc6b-2a1a-481b-bd5e-a4206d8089c8",
   "metadata": {},
   "outputs": [
    {
     "data": {
      "text/plain": [
       "genres\n",
       "[Drama]                                                         5000\n",
       "[Comedy]                                                        3620\n",
       "[Documentary]                                                   2723\n",
       "[]                                                              2442\n",
       "[Drama, Romance]                                                1301\n",
       "                                                                ... \n",
       "[Comedy, Crime, Mystery, Romance, Thriller]                        1\n",
       "[Adventure, Animation, Action, Comedy, Family]                     1\n",
       "[Mystery, Drama, Fantasy, Science Fiction, Thriller, Horror]       1\n",
       "[Western, Music]                                                   1\n",
       "[Family, Animation, Romance, Comedy]                               1\n",
       "Name: count, Length: 4066, dtype: int64"
      ]
     },
     "execution_count": 44,
     "metadata": {},
     "output_type": "execute_result"
    }
   ],
   "source": [
    "df[\"genres\"].value_counts()"
   ]
  },
  {
   "cell_type": "markdown",
   "id": "277c8fde-c48d-4975-a234-b843e1d5bfbc",
   "metadata": {},
   "source": [
    "Vemos que existen 2442 películas que carecen de géneros asociados. Esto no es un problema para un algortimo de _Collaborative Filtering_, pero lo tendremos en cuenta a futuro. Ahora vamos a analizar las rutas a los pósteres de las películas. Podría ser interesante que el usuario vea los pósteres en su front-end."
   ]
  },
  {
   "cell_type": "code",
   "execution_count": 45,
   "id": "edd8678b-0ba8-40f6-974e-1ca437ff27f1",
   "metadata": {},
   "outputs": [
    {
     "data": {
      "text/plain": [
       "(386, 19)"
      ]
     },
     "execution_count": 45,
     "metadata": {},
     "output_type": "execute_result"
    }
   ],
   "source": [
    "df[df[\"poster_path\"].isnull()].shape"
   ]
  },
  {
   "cell_type": "code",
   "execution_count": 46,
   "id": "4701e5f1-5d73-47de-a4e8-6430fe4f8906",
   "metadata": {},
   "outputs": [
    {
     "data": {
      "text/plain": [
       "0    /rhIRbceoE9lR4veEXuwCC2wARtG.jpg\n",
       "1    /vzmL6fP7aPKNKPRTFnZmiUfciyV.jpg\n",
       "2    /6ksm1sjKMFLbO7UY2i6G1ju9SML.jpg\n",
       "3    /16XOMpEaLWkrcPqSQqhTmeJuqQl.jpg\n",
       "4    /e64sOI48hQXyru7naBFyssKFxVd.jpg\n",
       "Name: poster_path, dtype: object"
      ]
     },
     "execution_count": 46,
     "metadata": {},
     "output_type": "execute_result"
    }
   ],
   "source": [
    "df[\"poster_path\"][:5]"
   ]
  },
  {
   "cell_type": "markdown",
   "id": "20cacbbb-76fb-4d38-beab-be56ae728ce9",
   "metadata": {},
   "source": [
    "Varias de las URL que aparecen llevan a enlaces que no tienen archivo, así que de momento, procedemos a eliminar la columna junto con la de homepage. Ésta última no nos proporciona información útil para la realización de nuestro recomendador."
   ]
  },
  {
   "cell_type": "code",
   "execution_count": 47,
   "id": "f6dab9b1-2f6e-4cec-8831-de2e4a26a308",
   "metadata": {},
   "outputs": [],
   "source": [
    "df = df.drop(columns=[\"poster_path\", \"homepage\"])"
   ]
  },
  {
   "cell_type": "markdown",
   "id": "e2e9eaa3-6172-4f76-a7e4-9b3b707db075",
   "metadata": {},
   "source": [
    "El estado de las películas no será relevante para su recomendación. No obstante, veamos cuántos valores tenemos en nuestro dataset:"
   ]
  },
  {
   "cell_type": "code",
   "execution_count": 48,
   "id": "ef240a36-aa46-4ac4-a42a-1a21f5aebc96",
   "metadata": {},
   "outputs": [
    {
     "data": {
      "text/plain": [
       "status\n",
       "Released           45006\n",
       "Rumored              230\n",
       "Post Production       98\n",
       "In Production         19\n",
       "Planned               15\n",
       "Canceled               2\n",
       "Name: count, dtype: int64"
      ]
     },
     "execution_count": 48,
     "metadata": {},
     "output_type": "execute_result"
    }
   ],
   "source": [
    "df[\"status\"].value_counts()"
   ]
  },
  {
   "cell_type": "markdown",
   "id": "e6165c49-c509-4251-98bc-7f6b645e703f",
   "metadata": {},
   "source": [
    "Observamos que 2 películas fueron canceladas, entonces no se las recomendaríamos a ningún usuario. Para ello, las eliminaremos de nuestro set."
   ]
  },
  {
   "cell_type": "code",
   "execution_count": 49,
   "id": "6f125911-1b99-4f20-bda1-42a2eebdde44",
   "metadata": {},
   "outputs": [
    {
     "data": {
      "text/plain": [
       "(45452, 17)"
      ]
     },
     "execution_count": 49,
     "metadata": {},
     "output_type": "execute_result"
    }
   ],
   "source": [
    "df = df[df[\"status\"] != \"Canceled\"]\n",
    "df.shape"
   ]
  },
  {
   "cell_type": "markdown",
   "id": "a47c4751-c377-44ab-b57a-955c65607aab",
   "metadata": {},
   "source": [
    "La columna de tagline son comentarios breves sobre la película. Vemos que tenemos aproximadamente un 45% de faltantes, no obstante vamos a crear adelante una columna que contenga la sinopsis de la película junto con su tagline. Ahora, vamos a utilizar la misma estrategia con los idiomas hablados que la que utilizamos con el género:"
   ]
  },
  {
   "cell_type": "code",
   "execution_count": 50,
   "id": "bfdb2acb-6715-4fad-af56-ea3eba59cfc9",
   "metadata": {},
   "outputs": [
    {
     "data": {
      "text/plain": [
       "0             [{'iso_639_1': 'en', 'name': 'English'}]\n",
       "1    [{'iso_639_1': 'en', 'name': 'English'}, {'iso...\n",
       "2             [{'iso_639_1': 'en', 'name': 'English'}]\n",
       "3             [{'iso_639_1': 'en', 'name': 'English'}]\n",
       "4             [{'iso_639_1': 'en', 'name': 'English'}]\n",
       "Name: spoken_languages, dtype: object"
      ]
     },
     "execution_count": 50,
     "metadata": {},
     "output_type": "execute_result"
    }
   ],
   "source": [
    "df[\"spoken_languages\"].head()"
   ]
  },
  {
   "cell_type": "code",
   "execution_count": 51,
   "id": "6e51ffa9-7cff-4038-95e8-1a27ed1cc896",
   "metadata": {},
   "outputs": [],
   "source": [
    "eliminar_id_idioma = lambda x: [lan[\"name\"] for lan in literal_eval(x)] if isinstance(literal_eval(x), list) else []\n",
    "df[\"spoken_languages\"] = df[\"spoken_languages\"].fillna(\"[]\").transform(func=eliminar_id_idioma)"
   ]
  },
  {
   "cell_type": "markdown",
   "id": "b720b0f5-95c9-4461-825b-c41d4dddf4a1",
   "metadata": {},
   "source": [
    "Utilizamos la misma estrategia de nuevo, pero para los valores de los países de producción:"
   ]
  },
  {
   "cell_type": "code",
   "execution_count": 52,
   "id": "6d6f7f5a-8905-40c9-ad08-f73f0fc14bb6",
   "metadata": {},
   "outputs": [],
   "source": [
    "eliminar_id_pais = lambda x: [country[\"name\"] for country in literal_eval(x)] if isinstance(literal_eval(x), list) else []\n",
    "df[\"production_countries\"] = df[\"production_countries\"].fillna(\"[]\").transform(func=eliminar_id_pais)"
   ]
  },
  {
   "cell_type": "markdown",
   "id": "71eaac7d-ed7a-429a-bf9f-97322e07596d",
   "metadata": {},
   "source": [
    "Las compañías de producción son un detalle de interés para cinéfilos. No obstante, en nuestro sistema de recomendación no será un parámetro aunque pueda proporcionar similaridad entre películas de una misma compañía. Por ello, eliminamos la columna."
   ]
  },
  {
   "cell_type": "code",
   "execution_count": 53,
   "id": "ed194053-5968-4cc8-b0f4-cd965cb1f441",
   "metadata": {},
   "outputs": [],
   "source": [
    "df = df.drop(columns=[\"production_companies\"])"
   ]
  },
  {
   "cell_type": "markdown",
   "id": "9ceb849e-4927-4a4a-bc2d-67cac91c66f3",
   "metadata": {},
   "source": [
    "La columna de vídeo nos indica si existe algún vídeo presente sobre la película. Eliminamos esta característica por carecer de valor para nuestro sistema."
   ]
  },
  {
   "cell_type": "code",
   "execution_count": 54,
   "id": "d48a30e0-48b6-4fd1-812d-538a41bb21ec",
   "metadata": {},
   "outputs": [],
   "source": [
    "df = df.drop(columns=[\"video\"])"
   ]
  },
  {
   "cell_type": "markdown",
   "id": "3eb25def-4fb2-43cc-8856-3ff571f2b950",
   "metadata": {},
   "source": [
    "Veamos cuántas columnas nos quedan en el DataFrame tras realizar un paso previo a un análisis más pormenorizado:"
   ]
  },
  {
   "cell_type": "code",
   "execution_count": 55,
   "id": "627289c6-3443-40d4-b0d3-94b5ef146c03",
   "metadata": {},
   "outputs": [
    {
     "data": {
      "text/plain": [
       "Index(['belongs_to_collection', 'genres', 'id', 'original_language',\n",
       "       'overview', 'popularity', 'production_countries', 'release_date',\n",
       "       'runtime', 'spoken_languages', 'status', 'tagline', 'title',\n",
       "       'vote_average', 'vote_count'],\n",
       "      dtype='object')"
      ]
     },
     "execution_count": 55,
     "metadata": {},
     "output_type": "execute_result"
    }
   ],
   "source": [
    "df.columns"
   ]
  },
  {
   "cell_type": "markdown",
   "id": "25452626-5aa5-4931-9480-ab0a580c9dbd",
   "metadata": {},
   "source": [
    "## Limpieza Dataset"
   ]
  },
  {
   "cell_type": "code",
   "execution_count": 56,
   "id": "6723d9f5-b388-4776-b3cd-e79daadc113e",
   "metadata": {},
   "outputs": [
    {
     "name": "stdout",
     "output_type": "stream",
     "text": [
      "<class 'pandas.core.frame.DataFrame'>\n",
      "Index: 45452 entries, 0 to 45465\n",
      "Data columns (total 15 columns):\n",
      " #   Column                 Non-Null Count  Dtype         \n",
      "---  ------                 --------------  -----         \n",
      " 0   belongs_to_collection  4490 non-null   object        \n",
      " 1   genres                 45452 non-null  object        \n",
      " 2   id                     45452 non-null  object        \n",
      " 3   original_language      45441 non-null  object        \n",
      " 4   overview               44498 non-null  object        \n",
      " 5   popularity             45449 non-null  object        \n",
      " 6   production_countries   45452 non-null  object        \n",
      " 7   release_date           45367 non-null  datetime64[ns]\n",
      " 8   runtime                45192 non-null  float64       \n",
      " 9   spoken_languages       45452 non-null  object        \n",
      " 10  status                 45368 non-null  object        \n",
      " 11  tagline                20406 non-null  object        \n",
      " 12  title                  45449 non-null  object        \n",
      " 13  vote_average           45449 non-null  float64       \n",
      " 14  vote_count             45449 non-null  float64       \n",
      "dtypes: datetime64[ns](1), float64(3), object(11)\n",
      "memory usage: 5.5+ MB\n"
     ]
    }
   ],
   "source": [
    "df.info()"
   ]
  },
  {
   "cell_type": "markdown",
   "id": "c2488983-e5eb-452d-b11e-248817acedea",
   "metadata": {},
   "source": [
    "La característica de la colección sería de interés en caso de que las películas tuvieran secuelas o precuelas. No obstante, si una película es secual de otra, la similaridad será alta, por lo que eliminamos esta característica.\n",
    "\n",
    "El estado de las películas involucra todas menos las películas canceladas, por lo que ya no nos indica más información relevante para el modelo.\n",
    "\n",
    "Los países de producción son de especial interés para conocer qué países producen más películas y realizar algunas gráficas para obtener información sobre el mundo del cine. En un sistema de recomendación puede sernos de utilidad para computar similaridad con otras películas, aunque en nuestro caso la vamos a eliminar.\n",
    "\n",
    "Vamos a crear una columna que se llame _description_ que contenga la suma de la sinopsis junto con el tagline. Primero rellenamos los faltantes de tagline y creamos la nueva columna."
   ]
  },
  {
   "cell_type": "code",
   "execution_count": 57,
   "id": "0e19d12f-fc00-4bb1-b237-a2b82309d071",
   "metadata": {},
   "outputs": [],
   "source": [
    "df[\"tagline\"] = df[\"tagline\"].fillna(\"\")\n",
    "df[\"description\"] = df[\"overview\"] + df[\"tagline\"]\n",
    "df = df.drop(columns=[\"tagline\"])"
   ]
  },
  {
   "cell_type": "code",
   "execution_count": 58,
   "id": "c668eb2d-5d7c-4af7-938e-739403663d31",
   "metadata": {},
   "outputs": [
    {
     "data": {
      "text/plain": [
       "954"
      ]
     },
     "execution_count": 58,
     "metadata": {},
     "output_type": "execute_result"
    }
   ],
   "source": [
    "df[\"description\"].isnull().sum()"
   ]
  },
  {
   "cell_type": "code",
   "execution_count": 60,
   "id": "34730117-6574-49db-9dca-fb98d9b052e4",
   "metadata": {},
   "outputs": [],
   "source": [
    "relevant_cols = [\"genres\", \"id\", \"title\", \"overview\", \"description\", \"popularity\", \"vote_average\", \"vote_count\"]"
   ]
  },
  {
   "cell_type": "code",
   "execution_count": 61,
   "id": "436ec70b-2acb-4eed-b688-693931d028e5",
   "metadata": {},
   "outputs": [],
   "source": [
    "df = df[relevant_cols]"
   ]
  },
  {
   "cell_type": "code",
   "execution_count": 62,
   "id": "931f0590-256b-4667-9292-8c1ad8f6f748",
   "metadata": {},
   "outputs": [
    {
     "data": {
      "text/html": [
       "<div>\n",
       "<style scoped>\n",
       "    .dataframe tbody tr th:only-of-type {\n",
       "        vertical-align: middle;\n",
       "    }\n",
       "\n",
       "    .dataframe tbody tr th {\n",
       "        vertical-align: top;\n",
       "    }\n",
       "\n",
       "    .dataframe thead th {\n",
       "        text-align: right;\n",
       "    }\n",
       "</style>\n",
       "<table border=\"1\" class=\"dataframe\">\n",
       "  <thead>\n",
       "    <tr style=\"text-align: right;\">\n",
       "      <th></th>\n",
       "      <th>genres</th>\n",
       "      <th>id</th>\n",
       "      <th>title</th>\n",
       "      <th>overview</th>\n",
       "      <th>description</th>\n",
       "      <th>popularity</th>\n",
       "      <th>vote_average</th>\n",
       "      <th>vote_count</th>\n",
       "    </tr>\n",
       "  </thead>\n",
       "  <tbody>\n",
       "    <tr>\n",
       "      <th>0</th>\n",
       "      <td>[Animation, Comedy, Family]</td>\n",
       "      <td>862</td>\n",
       "      <td>Toy Story</td>\n",
       "      <td>Led by Woody, Andy's toys live happily in his ...</td>\n",
       "      <td>Led by Woody, Andy's toys live happily in his ...</td>\n",
       "      <td>21.946943</td>\n",
       "      <td>7.7</td>\n",
       "      <td>5415.0</td>\n",
       "    </tr>\n",
       "    <tr>\n",
       "      <th>1</th>\n",
       "      <td>[Adventure, Fantasy, Family]</td>\n",
       "      <td>8844</td>\n",
       "      <td>Jumanji</td>\n",
       "      <td>When siblings Judy and Peter discover an encha...</td>\n",
       "      <td>When siblings Judy and Peter discover an encha...</td>\n",
       "      <td>17.015539</td>\n",
       "      <td>6.9</td>\n",
       "      <td>2413.0</td>\n",
       "    </tr>\n",
       "    <tr>\n",
       "      <th>2</th>\n",
       "      <td>[Romance, Comedy]</td>\n",
       "      <td>15602</td>\n",
       "      <td>Grumpier Old Men</td>\n",
       "      <td>A family wedding reignites the ancient feud be...</td>\n",
       "      <td>A family wedding reignites the ancient feud be...</td>\n",
       "      <td>11.7129</td>\n",
       "      <td>6.5</td>\n",
       "      <td>92.0</td>\n",
       "    </tr>\n",
       "    <tr>\n",
       "      <th>3</th>\n",
       "      <td>[Comedy, Drama, Romance]</td>\n",
       "      <td>31357</td>\n",
       "      <td>Waiting to Exhale</td>\n",
       "      <td>Cheated on, mistreated and stepped on, the wom...</td>\n",
       "      <td>Cheated on, mistreated and stepped on, the wom...</td>\n",
       "      <td>3.859495</td>\n",
       "      <td>6.1</td>\n",
       "      <td>34.0</td>\n",
       "    </tr>\n",
       "    <tr>\n",
       "      <th>4</th>\n",
       "      <td>[Comedy]</td>\n",
       "      <td>11862</td>\n",
       "      <td>Father of the Bride Part II</td>\n",
       "      <td>Just when George Banks has recovered from his ...</td>\n",
       "      <td>Just when George Banks has recovered from his ...</td>\n",
       "      <td>8.387519</td>\n",
       "      <td>5.7</td>\n",
       "      <td>173.0</td>\n",
       "    </tr>\n",
       "  </tbody>\n",
       "</table>\n",
       "</div>"
      ],
      "text/plain": [
       "                         genres     id                        title  \\\n",
       "0   [Animation, Comedy, Family]    862                    Toy Story   \n",
       "1  [Adventure, Fantasy, Family]   8844                      Jumanji   \n",
       "2             [Romance, Comedy]  15602             Grumpier Old Men   \n",
       "3      [Comedy, Drama, Romance]  31357            Waiting to Exhale   \n",
       "4                      [Comedy]  11862  Father of the Bride Part II   \n",
       "\n",
       "                                            overview  \\\n",
       "0  Led by Woody, Andy's toys live happily in his ...   \n",
       "1  When siblings Judy and Peter discover an encha...   \n",
       "2  A family wedding reignites the ancient feud be...   \n",
       "3  Cheated on, mistreated and stepped on, the wom...   \n",
       "4  Just when George Banks has recovered from his ...   \n",
       "\n",
       "                                         description popularity  vote_average  \\\n",
       "0  Led by Woody, Andy's toys live happily in his ...  21.946943           7.7   \n",
       "1  When siblings Judy and Peter discover an encha...  17.015539           6.9   \n",
       "2  A family wedding reignites the ancient feud be...    11.7129           6.5   \n",
       "3  Cheated on, mistreated and stepped on, the wom...   3.859495           6.1   \n",
       "4  Just when George Banks has recovered from his ...   8.387519           5.7   \n",
       "\n",
       "   vote_count  \n",
       "0      5415.0  \n",
       "1      2413.0  \n",
       "2        92.0  \n",
       "3        34.0  \n",
       "4       173.0  "
      ]
     },
     "execution_count": 62,
     "metadata": {},
     "output_type": "execute_result"
    }
   ],
   "source": [
    "df.head()"
   ]
  },
  {
   "cell_type": "code",
   "execution_count": 63,
   "id": "f4b4ee29-78cb-4cf6-a05d-b2e2e2907f36",
   "metadata": {},
   "outputs": [
    {
     "name": "stdout",
     "output_type": "stream",
     "text": [
      "<class 'pandas.core.frame.DataFrame'>\n",
      "Index: 45452 entries, 0 to 45465\n",
      "Data columns (total 8 columns):\n",
      " #   Column        Non-Null Count  Dtype  \n",
      "---  ------        --------------  -----  \n",
      " 0   genres        45452 non-null  object \n",
      " 1   id            45452 non-null  object \n",
      " 2   title         45449 non-null  object \n",
      " 3   overview      44498 non-null  object \n",
      " 4   description   44498 non-null  object \n",
      " 5   popularity    45449 non-null  object \n",
      " 6   vote_average  45449 non-null  float64\n",
      " 7   vote_count    45449 non-null  float64\n",
      "dtypes: float64(2), object(6)\n",
      "memory usage: 3.1+ MB\n"
     ]
    }
   ],
   "source": [
    "df.info()"
   ]
  },
  {
   "cell_type": "markdown",
   "id": "244e88c1-73c9-43e6-99fd-1f27038df4c2",
   "metadata": {},
   "source": [
    "En el caso de overview vemos que tenemos unas 1000 películas que carecen de reseña. Dado que no podríamos rellenarlas de una manera completa, vamos a eliminar del set todas las películas que carecen de reseña."
   ]
  },
  {
   "cell_type": "code",
   "execution_count": 64,
   "id": "6a86e058-8db6-479e-a1c6-d815195b1b3b",
   "metadata": {},
   "outputs": [],
   "source": [
    "df = df[df[\"overview\"].notnull()]"
   ]
  },
  {
   "cell_type": "code",
   "execution_count": 65,
   "id": "f43b25ea-8155-48a6-9462-1092abd34585",
   "metadata": {},
   "outputs": [
    {
     "data": {
      "text/plain": [
       "genres          0\n",
       "id              0\n",
       "title           3\n",
       "overview        0\n",
       "description     0\n",
       "popularity      3\n",
       "vote_average    3\n",
       "vote_count      3\n",
       "dtype: int64"
      ]
     },
     "execution_count": 65,
     "metadata": {},
     "output_type": "execute_result"
    }
   ],
   "source": [
    "df.isnull().sum()"
   ]
  },
  {
   "cell_type": "markdown",
   "id": "0588e4e1-b71e-4241-927e-ac606eea9396",
   "metadata": {},
   "source": [
    "Eliminando las películas sin reseña obtenemos un dataset que apenas tiene faltantes. Vamos a rellenar esos datos numéricos faltantes con la mediana y exportaremos este dataset limpio para realizar nuestro primer recomendador en otro _Notebook_."
   ]
  },
  {
   "cell_type": "code",
   "execution_count": 66,
   "id": "02d32d16-81ef-4358-9258-4b29c8558a14",
   "metadata": {},
   "outputs": [],
   "source": [
    "df[\"popularity\"] = pd.to_numeric(df[\"popularity\"], errors=\"coerce\")"
   ]
  },
  {
   "cell_type": "code",
   "execution_count": 67,
   "id": "3a9370a1-a78d-49c0-b90d-a54be831b194",
   "metadata": {},
   "outputs": [
    {
     "data": {
      "text/plain": [
       "genres          0\n",
       "id              0\n",
       "title           3\n",
       "overview        0\n",
       "description     0\n",
       "popularity      3\n",
       "vote_average    3\n",
       "vote_count      3\n",
       "dtype: int64"
      ]
     },
     "execution_count": 67,
     "metadata": {},
     "output_type": "execute_result"
    }
   ],
   "source": [
    "df.isnull().sum()"
   ]
  },
  {
   "cell_type": "code",
   "execution_count": 68,
   "id": "807dbcda-58f9-4717-9b78-7f3af3e49d9c",
   "metadata": {},
   "outputs": [],
   "source": [
    "df.fillna({\n",
    "    \"popularity\": df[\"popularity\"].median(),\n",
    "    \"vote_average\": df[\"vote_average\"].median(),\n",
    "    \"vote_count\": df[\"vote_count\"].median()\n",
    "}, inplace=True)"
   ]
  },
  {
   "cell_type": "code",
   "execution_count": 69,
   "id": "57c1292b-f04b-40ee-9ef9-de0d265cf10e",
   "metadata": {},
   "outputs": [
    {
     "data": {
      "text/plain": [
       "(44498,\n",
       " Index(['genres', 'id', 'title', 'overview', 'description', 'popularity',\n",
       "        'vote_average', 'vote_count'],\n",
       "       dtype='object'))"
      ]
     },
     "execution_count": 69,
     "metadata": {},
     "output_type": "execute_result"
    }
   ],
   "source": [
    "len(df), df.columns"
   ]
  },
  {
   "cell_type": "code",
   "execution_count": 72,
   "id": "74658b69-9d4d-4dce-8c0b-39917fe81aa1",
   "metadata": {},
   "outputs": [
    {
     "data": {
      "text/plain": [
       "(41362, 8)"
      ]
     },
     "execution_count": 72,
     "metadata": {},
     "output_type": "execute_result"
    }
   ],
   "source": [
    "df = df.drop_duplicates(\"id\")\n",
    "df = df.drop_duplicates(\"title\")\n",
    "df.shape"
   ]
  },
  {
   "cell_type": "code",
   "execution_count": 73,
   "id": "9814b8fc-782f-47ba-aa53-00b8c74a14c0",
   "metadata": {},
   "outputs": [],
   "source": [
    "df.to_csv(os.path.join(DATA_PATH, \"CSV\", \"cleaned_movies.csv\"), index=False)"
   ]
  },
  {
   "cell_type": "code",
   "execution_count": null,
   "id": "2f8ca35d-888e-4d76-9e69-494edfb611d2",
   "metadata": {},
   "outputs": [],
   "source": []
  }
 ],
 "metadata": {
  "kernelspec": {
   "display_name": "Python 3 (ipykernel)",
   "language": "python",
   "name": "python3"
  },
  "language_info": {
   "codemirror_mode": {
    "name": "ipython",
    "version": 3
   },
   "file_extension": ".py",
   "mimetype": "text/x-python",
   "name": "python",
   "nbconvert_exporter": "python",
   "pygments_lexer": "ipython3",
   "version": "3.11.9"
  }
 },
 "nbformat": 4,
 "nbformat_minor": 5
}
