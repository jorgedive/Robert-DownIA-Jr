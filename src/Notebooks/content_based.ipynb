{
 "cells": [
  {
   "cell_type": "code",
   "execution_count": 1,
   "id": "e5fe28c9-19b6-4cf3-9ee0-02a07448198d",
   "metadata": {},
   "outputs": [],
   "source": [
    "import pandas as pd\n",
    "import numpy as np"
   ]
  },
  {
   "cell_type": "code",
   "execution_count": 2,
   "id": "277301c2-9d9f-41a6-9df9-03a4a4419c83",
   "metadata": {},
   "outputs": [],
   "source": [
    "import os\n",
    "\n",
    "FILENAME = \"cleaned_content_based.csv\"\n",
    "DATA_PATH = \"archive\"\n",
    "RECOMMENDER_TYPE = \"content_based\"\n",
    "PROJECT_ROOT_DIR = \".\"\n",
    "IMAGES_PATH = os.path.join(PROJECT_ROOT_DIR, \"images\", RECOMMENDER_TYPE)\n",
    "os.makedirs(IMAGES_PATH, exist_ok=True)\n",
    "\n",
    "def save_fig(fig_id, tight_layout=True, extension=\"png\", resolution=300):  # Función para guardar las figuras que se vayan generando\n",
    "    img_path = os.path.join(IMAGES_PATH, fig_id + \".\" + extension)\n",
    "    if tight_layout:\n",
    "        plt.tight_layout()\n",
    "    plt.savefig(img_path, format=extension, dpi=resolution)"
   ]
  },
  {
   "cell_type": "code",
   "execution_count": 3,
   "id": "c872b4b4-ab11-4bb1-b323-9c6944e20de9",
   "metadata": {},
   "outputs": [],
   "source": [
    "from matplotlib import pyplot as plt\n",
    "\n",
    "# Configuración de parámetros de matplotlib\n",
    "\n",
    "plt.rc(\"font\", size=14)\n",
    "plt.rc(\"axes\", labelsize=14, titlesize=14)\n",
    "plt.rc(\"legend\", fontsize=14)\n",
    "plt.rc(\"xtick\", labelsize=10)\n",
    "plt.rc(\"ytick\", labelsize=10)"
   ]
  },
  {
   "cell_type": "code",
   "execution_count": 4,
   "id": "d560c7e0-e3cd-41cf-bd64-b236f52b522f",
   "metadata": {},
   "outputs": [],
   "source": [
    "df = pd.read_csv(os.path.join(DATA_PATH, FILENAME), low_memory=False)"
   ]
  },
  {
   "cell_type": "markdown",
   "id": "6c5c0f87-dc93-4c09-a4ee-688679048bcf",
   "metadata": {},
   "source": [
    "# Content Based Filtering"
   ]
  },
  {
   "cell_type": "markdown",
   "id": "d3644678-f46b-4c90-a48b-345a32e7d8c5",
   "metadata": {},
   "source": [
    "El primer modelo que hemos creado ha sido un recomendador muy simple, basado en las películas y su popularidad, con un filtro del género de la película. Sin embargo, este sistema recomienda las mismas películas a todos los usuarios, por lo que si un usuario quiere recomendaciones sobre películas de Romance, siempre recibirá las mismas recomendaciones que otros usuarios que busquen ese mismo género.\n",
    "\n",
    "En caso de que una persona quisiera conocer películas de un mismo director, actor o que tenga una trama similar a otra pero con diferentes géneros, el recomendador simple que hemos elaborado no serviría. Vamos a hacer dos tipos de recomendadores:\n",
    "\n",
    "- Basado en el contenido de la descripción de la película\n",
    "- Basado en los metadatos (director, actores, géneros...)\n",
    "\n",
    "De esta forma desarrollaremos dos sistemas de recomendación superiores al que hicimos anteriormente."
   ]
  },
  {
   "cell_type": "markdown",
   "id": "66a40a50-9edc-45a1-89d4-fb908fe9d8f4",
   "metadata": {},
   "source": [
    "## Basado en la descripción"
   ]
  },
  {
   "cell_type": "markdown",
   "id": "13bf10cc-6050-415f-a032-67c6db141883",
   "metadata": {},
   "source": [
    "Durante el procesamiento de los datos en _notebook_ EDA00, hicimos una característica que englobaba la reseña y el _tagline_ de las películas (en caso de haber _tagline_). A partir de esta descripción, podemos realizar un sistema de recomendación basado en la similaridad de las películas. Recordemos que en nuestro caso la característica que engloba todo se llama _**description**_."
   ]
  },
  {
   "cell_type": "code",
   "execution_count": 5,
   "id": "7fddcb9a-3167-4483-9047-354fc457e782",
   "metadata": {},
   "outputs": [
    {
     "data": {
      "text/html": [
       "<div>\n",
       "<style scoped>\n",
       "    .dataframe tbody tr th:only-of-type {\n",
       "        vertical-align: middle;\n",
       "    }\n",
       "\n",
       "    .dataframe tbody tr th {\n",
       "        vertical-align: top;\n",
       "    }\n",
       "\n",
       "    .dataframe thead th {\n",
       "        text-align: right;\n",
       "    }\n",
       "</style>\n",
       "<table border=\"1\" class=\"dataframe\">\n",
       "  <thead>\n",
       "    <tr style=\"text-align: right;\">\n",
       "      <th></th>\n",
       "      <th>genres</th>\n",
       "      <th>id</th>\n",
       "      <th>title</th>\n",
       "      <th>overview</th>\n",
       "      <th>description</th>\n",
       "      <th>popularity</th>\n",
       "      <th>vote_average</th>\n",
       "      <th>vote_count</th>\n",
       "      <th>cast</th>\n",
       "      <th>keywords</th>\n",
       "      <th>director</th>\n",
       "      <th>metadata</th>\n",
       "    </tr>\n",
       "  </thead>\n",
       "  <tbody>\n",
       "    <tr>\n",
       "      <th>0</th>\n",
       "      <td>['animation', 'comedy', 'family']</td>\n",
       "      <td>862</td>\n",
       "      <td>Toy Story</td>\n",
       "      <td>Led by Woody, Andy's toys live happily in his ...</td>\n",
       "      <td>Led by Woody, Andy's toys live happily in his ...</td>\n",
       "      <td>21.946943</td>\n",
       "      <td>7.7</td>\n",
       "      <td>5415.0</td>\n",
       "      <td>['tomhanks', 'timallen', 'donrickles']</td>\n",
       "      <td>['jealousi', 'toy', 'boy', 'friendship', 'frie...</td>\n",
       "      <td>['johnlasseter']</td>\n",
       "      <td>animation comedy family jealousi toy boy frien...</td>\n",
       "    </tr>\n",
       "    <tr>\n",
       "      <th>1</th>\n",
       "      <td>['adventure', 'fantasy', 'family']</td>\n",
       "      <td>8844</td>\n",
       "      <td>Jumanji</td>\n",
       "      <td>When siblings Judy and Peter discover an encha...</td>\n",
       "      <td>When siblings Judy and Peter discover an encha...</td>\n",
       "      <td>17.015539</td>\n",
       "      <td>6.9</td>\n",
       "      <td>2413.0</td>\n",
       "      <td>['robinwilliams', 'jonathanhyde', 'kirstendunst']</td>\n",
       "      <td>['boardgam', 'disappear', \"basedonchildren'sbo...</td>\n",
       "      <td>['joejohnston']</td>\n",
       "      <td>adventure fantasy family boardgam disappear ba...</td>\n",
       "    </tr>\n",
       "    <tr>\n",
       "      <th>2</th>\n",
       "      <td>['romance', 'comedy']</td>\n",
       "      <td>15602</td>\n",
       "      <td>Grumpier Old Men</td>\n",
       "      <td>A family wedding reignites the ancient feud be...</td>\n",
       "      <td>A family wedding reignites the ancient feud be...</td>\n",
       "      <td>11.712900</td>\n",
       "      <td>6.5</td>\n",
       "      <td>92.0</td>\n",
       "      <td>['waltermatthau', 'jacklemmon', 'ann-margret']</td>\n",
       "      <td>['fish', 'bestfriend', 'duringcreditssting', '...</td>\n",
       "      <td>['howarddeutch']</td>\n",
       "      <td>romance comedy fish bestfriend duringcreditsst...</td>\n",
       "    </tr>\n",
       "  </tbody>\n",
       "</table>\n",
       "</div>"
      ],
      "text/plain": [
       "                               genres     id             title  \\\n",
       "0   ['animation', 'comedy', 'family']    862         Toy Story   \n",
       "1  ['adventure', 'fantasy', 'family']   8844           Jumanji   \n",
       "2               ['romance', 'comedy']  15602  Grumpier Old Men   \n",
       "\n",
       "                                            overview  \\\n",
       "0  Led by Woody, Andy's toys live happily in his ...   \n",
       "1  When siblings Judy and Peter discover an encha...   \n",
       "2  A family wedding reignites the ancient feud be...   \n",
       "\n",
       "                                         description  popularity  \\\n",
       "0  Led by Woody, Andy's toys live happily in his ...   21.946943   \n",
       "1  When siblings Judy and Peter discover an encha...   17.015539   \n",
       "2  A family wedding reignites the ancient feud be...   11.712900   \n",
       "\n",
       "   vote_average  vote_count  \\\n",
       "0           7.7      5415.0   \n",
       "1           6.9      2413.0   \n",
       "2           6.5        92.0   \n",
       "\n",
       "                                                cast  \\\n",
       "0             ['tomhanks', 'timallen', 'donrickles']   \n",
       "1  ['robinwilliams', 'jonathanhyde', 'kirstendunst']   \n",
       "2     ['waltermatthau', 'jacklemmon', 'ann-margret']   \n",
       "\n",
       "                                            keywords          director  \\\n",
       "0  ['jealousi', 'toy', 'boy', 'friendship', 'frie...  ['johnlasseter']   \n",
       "1  ['boardgam', 'disappear', \"basedonchildren'sbo...   ['joejohnston']   \n",
       "2  ['fish', 'bestfriend', 'duringcreditssting', '...  ['howarddeutch']   \n",
       "\n",
       "                                            metadata  \n",
       "0  animation comedy family jealousi toy boy frien...  \n",
       "1  adventure fantasy family boardgam disappear ba...  \n",
       "2  romance comedy fish bestfriend duringcreditsst...  "
      ]
     },
     "execution_count": 5,
     "metadata": {},
     "output_type": "execute_result"
    }
   ],
   "source": [
    "df.head(3)"
   ]
  },
  {
   "cell_type": "markdown",
   "id": "ec6f8695-65c3-46e6-8cfe-50f9b26092d0",
   "metadata": {},
   "source": [
    "Lo primero que vamos a realizar es una tokenización del texto, eliminando los _stopwords_ y después le vamos a pasar un _stemmer_ tras tokenizar el texto."
   ]
  },
  {
   "cell_type": "code",
   "execution_count": 6,
   "id": "21c3df50-8395-4c38-9f73-01932f357b32",
   "metadata": {},
   "outputs": [],
   "source": [
    "from nltk.corpus import stopwords\n",
    "from nltk.stem.snowball import SnowballStemmer\n",
    "import nltk\n",
    "import re\n",
    "\n",
    "stop_w = set(stopwords.words(\"english\"))  # Stopwords\n",
    "remove_non_alpha = lambda x: re.sub(r\"[^a-zA-Z]\", \" \", x)  # Elimina aquello que no sean palabras\n",
    "tokenize = lambda x: nltk.tokenize.word_tokenize(x)  # Tokeniza cada entrada\n",
    "stemmer = SnowballStemmer(\"english\")\n",
    "stemmer_fn = lambda desc: \" \".join([stemmer.stem(w) for w in desc if w.lower() not in stop_w])  # Paso de estandarización"
   ]
  },
  {
   "cell_type": "code",
   "execution_count": 7,
   "id": "a09494ed-1d04-43aa-b342-adda72e23fbb",
   "metadata": {},
   "outputs": [],
   "source": [
    "for fn in (remove_non_alpha, tokenize, stemmer_fn):\n",
    "    df[\"description\"] = df[\"description\"].transform(func=fn)"
   ]
  },
  {
   "cell_type": "code",
   "execution_count": 8,
   "id": "a61a58b8-98c6-4a72-9746-c2f0b037dc5a",
   "metadata": {},
   "outputs": [],
   "source": [
    "from sklearn.feature_extraction.text import TfidfVectorizer\n",
    "\n",
    "tfidf = TfidfVectorizer(analyzer=\"word\", ngram_range=(1, 2), stop_words=\"english\", min_df=0.)  # Redundancia de stopwords\n",
    "tfidf_matrix = tfidf.fit_transform(df[\"description\"])"
   ]
  },
  {
   "cell_type": "code",
   "execution_count": 9,
   "id": "918a476c-8d3b-4685-ba8b-5b06e6d96f5e",
   "metadata": {},
   "outputs": [
    {
     "data": {
      "text/plain": [
       "(44467, 974653)"
      ]
     },
     "execution_count": 9,
     "metadata": {},
     "output_type": "execute_result"
    }
   ],
   "source": [
    "tfidf_matrix.shape"
   ]
  },
  {
   "cell_type": "code",
   "execution_count": 10,
   "id": "be3c5a46-7cb7-4feb-90c0-8db35b838ffc",
   "metadata": {},
   "outputs": [],
   "source": [
    "from sklearn.metrics.pairwise import linear_kernel\n",
    "\n",
    "cosine_sim = linear_kernel(tfidf_matrix, tfidf_matrix)"
   ]
  },
  {
   "cell_type": "code",
   "execution_count": 11,
   "id": "8918347a-ad38-4bbd-b6b2-a81825c0b6eb",
   "metadata": {},
   "outputs": [],
   "source": [
    "indices_mapper = pd.Series(df.index, index=df[\"title\"]).drop_duplicates()"
   ]
  },
  {
   "cell_type": "code",
   "execution_count": 12,
   "id": "264cc5f7-180f-4263-9ba0-dd7fc57bf5d1",
   "metadata": {},
   "outputs": [
    {
     "name": "stdout",
     "output_type": "stream",
     "text": [
      "title\n",
      "The Avengers     2027\n",
      "The Avengers    17708\n",
      "dtype: int64\n"
     ]
    },
    {
     "ename": "ValueError",
     "evalue": "The truth value of an array with more than one element is ambiguous. Use a.any() or a.all()",
     "output_type": "error",
     "traceback": [
      "\u001b[0;31m---------------------------------------------------------------------------\u001b[0m",
      "\u001b[0;31mValueError\u001b[0m                                Traceback (most recent call last)",
      "Cell \u001b[0;32mIn[12], line 5\u001b[0m\n\u001b[1;32m      3\u001b[0m \u001b[38;5;28mprint\u001b[39m(idx)\n\u001b[1;32m      4\u001b[0m scores \u001b[38;5;241m=\u001b[39m \u001b[38;5;28mlist\u001b[39m(\u001b[38;5;28menumerate\u001b[39m(cosine_sim[idx]))\n\u001b[0;32m----> 5\u001b[0m scores \u001b[38;5;241m=\u001b[39m \u001b[38;5;28;43msorted\u001b[39;49m\u001b[43m(\u001b[49m\u001b[43mscores\u001b[49m\u001b[43m,\u001b[49m\u001b[43m \u001b[49m\u001b[43mkey\u001b[49m\u001b[38;5;241;43m=\u001b[39;49m\u001b[38;5;28;43;01mlambda\u001b[39;49;00m\u001b[43m \u001b[49m\u001b[43mx\u001b[49m\u001b[43m:\u001b[49m\u001b[43m \u001b[49m\u001b[43mx\u001b[49m\u001b[43m[\u001b[49m\u001b[38;5;241;43m1\u001b[39;49m\u001b[43m]\u001b[49m\u001b[43m,\u001b[49m\u001b[43m \u001b[49m\u001b[43mreverse\u001b[49m\u001b[38;5;241;43m=\u001b[39;49m\u001b[38;5;28;43;01mTrue\u001b[39;49;00m\u001b[43m)\u001b[49m\n\u001b[1;32m      6\u001b[0m scores \u001b[38;5;241m=\u001b[39m scores[\u001b[38;5;241m0\u001b[39m:\u001b[38;5;241m11\u001b[39m]\n\u001b[1;32m      7\u001b[0m idx_ \u001b[38;5;241m=\u001b[39m [s[\u001b[38;5;241m0\u001b[39m] \u001b[38;5;28;01mfor\u001b[39;00m s \u001b[38;5;129;01min\u001b[39;00m scores]\n",
      "\u001b[0;31mValueError\u001b[0m: The truth value of an array with more than one element is ambiguous. Use a.any() or a.all()"
     ]
    }
   ],
   "source": [
    "movie = \"The Avengers\"\n",
    "idx = indices_mapper[movie]\n",
    "print(idx)\n",
    "scores = list(enumerate(cosine_sim[idx]))\n",
    "scores = sorted(scores, key=lambda x: x[1], reverse=True)\n",
    "scores = scores[0:11]\n",
    "idx_ = [s[0] for s in scores]\n",
    "df[\"title\"].iloc[idx_]"
   ]
  },
  {
   "cell_type": "code",
   "execution_count": null,
   "id": "3fafef5f-90a6-4ff1-a072-2a028dbce056",
   "metadata": {},
   "outputs": [],
   "source": []
  }
 ],
 "metadata": {
  "kernelspec": {
   "display_name": "Python 3 (ipykernel)",
   "language": "python",
   "name": "python3"
  },
  "language_info": {
   "codemirror_mode": {
    "name": "ipython",
    "version": 3
   },
   "file_extension": ".py",
   "mimetype": "text/x-python",
   "name": "python",
   "nbconvert_exporter": "python",
   "pygments_lexer": "ipython3",
   "version": "3.10.13"
  }
 },
 "nbformat": 4,
 "nbformat_minor": 5
}
